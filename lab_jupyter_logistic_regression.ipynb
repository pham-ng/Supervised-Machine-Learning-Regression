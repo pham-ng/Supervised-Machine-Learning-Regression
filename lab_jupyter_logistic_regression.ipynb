{
  "cells": [
    {
      "cell_type": "markdown",
      "metadata": {
        "id": "a4c4feeb-3c33-4366-bde2-1332e08712b4"
      },
      "source": [
        "<p style=\"text-align:center\">\n",
        "    <a href=\"https://skills.network\" target=\"_blank\">\n",
        "    <img src=\"https://cf-courses-data.s3.us.cloud-object-storage.appdomain.cloud/assets/logos/SN_web_lightmode.png\" width=\"200\" alt=\"Skills Network Logo\">\n",
        "    </a>\n",
        "</p>\n"
      ]
    },
    {
      "cell_type": "markdown",
      "metadata": {
        "id": "8bbd0293-d0d6-4759-aa4d-728e295b19e9"
      },
      "source": [
        "# **Logistic Regression**\n"
      ]
    },
    {
      "cell_type": "markdown",
      "metadata": {
        "id": "f2f73dc3-23f2-416c-843d-a483bd0788a0"
      },
      "source": [
        "Estimated time needed: **30** minutes\n"
      ]
    },
    {
      "cell_type": "markdown",
      "metadata": {
        "id": "28bf3dc8-2480-444e-ac96-cbefdffae58b"
      },
      "source": [
        "In this lab, you will learn about and get hands-on practice with the logistic regression model, a popular and effective classification model. Understanding logistic regression and being able to apply it to classification tasks is essential because logistic regression models form the fundamentals of neural networks.\n"
      ]
    },
    {
      "cell_type": "markdown",
      "metadata": {
        "id": "421dd141-6e91-4852-bd0f-e0aef8d60332"
      },
      "source": [
        "We will use a real-world dataset that contains detailed nutrition information about food items for people with diabetes. The objective is to classify whether a diabetic patient should choose More Often, Less Often, or In Moderation for a specific food item based on the nutrition information in the dataset.\n"
      ]
    },
    {
      "cell_type": "markdown",
      "metadata": {
        "id": "9e2dd37d-3d5d-4ae9-9aa6-5bb235862c81"
      },
      "source": [
        "## Objectives\n"
      ]
    },
    {
      "cell_type": "markdown",
      "metadata": {
        "id": "9e40045d-c314-43b5-8d57-c195ce3bb6bb"
      },
      "source": [
        "After completing this lab you will be able to:\n"
      ]
    },
    {
      "cell_type": "markdown",
      "metadata": {
        "id": "b32b9909-259b-4159-a3a3-d6ead3673420"
      },
      "source": [
        "*   Preprocess and generate training and testing datasets\n",
        "*   Train and fine-tune logistic regression models\n",
        "*   Interpret trained logistic regression models\n",
        "*   Evaluate trained logistic regression models\n"
      ]
    },
    {
      "cell_type": "markdown",
      "metadata": {
        "id": "73296749-d994-4f87-ab55-4603ef09718e"
      },
      "source": [
        "***\n"
      ]
    },
    {
      "cell_type": "markdown",
      "metadata": {
        "id": "f98eefe5-b524-44f6-a3f0-21eb31a392e2"
      },
      "source": [
        "## Prepare and setup lab environment\n"
      ]
    },
    {
      "cell_type": "code",
      "metadata": {
        "id": "6c5aa99e-e464-400a-b032-c276f014e925"
      },
      "outputs": [],
      "source": [
        "# All Libraries required for this lab are listed below. The libraries pre-installed on Skills Network Labs are commented.\n",
        "# !mamba install -qy pandas==1.3.3 numpy==1.21.2 ipywidgets==7.4.2 scipy==7.4.2 tqdm==4.62.3 matplotlib==3.5.0 seaborn==0.9.0\n",
        "# Note: If your environment doesn't support \"!mamba install\", use \"!pip install\""
      ],
      "execution_count": 67
    },
    {
      "cell_type": "code",
      "metadata": {
        "colab": {
          "base_uri": "https://localhost:8080/"
        },
        "id": "4f109cd9-8cd3-4088-9ad9-b08e042c561e",
        "outputId": "13708bac-6389-4633-c276-b1940fa97c19"
      },
      "outputs": [
        {
          "output_type": "stream",
          "name": "stdout",
          "text": [
            "Requirement already satisfied: scikit-learn in /usr/local/lib/python3.10/dist-packages (1.4.1.post1)\n",
            "Requirement already satisfied: numpy<2.0,>=1.19.5 in /usr/local/lib/python3.10/dist-packages (from scikit-learn) (1.25.2)\n",
            "Requirement already satisfied: scipy>=1.6.0 in /usr/local/lib/python3.10/dist-packages (from scikit-learn) (1.11.4)\n",
            "Requirement already satisfied: joblib>=1.2.0 in /usr/local/lib/python3.10/dist-packages (from scikit-learn) (1.3.2)\n",
            "Requirement already satisfied: threadpoolctl>=2.0.0 in /usr/local/lib/python3.10/dist-packages (from scikit-learn) (3.3.0)\n"
          ]
        }
      ],
      "source": [
        "!pip install -U scikit-learn"
      ],
      "execution_count": 68
    },
    {
      "cell_type": "code",
      "metadata": {
        "id": "6a264f11-4931-40d8-86e7-e7ff82b4377f"
      },
      "outputs": [],
      "source": [
        "import pandas as pd\n",
        "import numpy as np\n",
        "from sklearn.preprocessing import OneHotEncoder, LabelEncoder, MinMaxScaler\n",
        "from sklearn.model_selection import train_test_split, learning_curve\n",
        "from sklearn.linear_model import LogisticRegression\n",
        "from sklearn import metrics\n",
        "from sklearn.metrics import classification_report, accuracy_score, confusion_matrix,ConfusionMatrixDisplay, precision_recall_fscore_support, precision_score, recall_score\n",
        "import matplotlib.pyplot as plt\n",
        "import seaborn as sns\n",
        "%matplotlib inline"
      ],
      "execution_count": 72
    },
    {
      "cell_type": "code",
      "metadata": {
        "id": "42d0be2a-f7af-4be5-9d96-4fa36fa4d985"
      },
      "outputs": [],
      "source": [
        "# also set a random state\n",
        "rs = 123"
      ],
      "execution_count": 73
    },
    {
      "cell_type": "markdown",
      "metadata": {
        "id": "add870f1-5db0-4ffa-87a2-4df1e4405f0f"
      },
      "source": [
        "### Exploratory Data Analysis(EDA) and Feature Engineering\n",
        "Before we get to the model implementation, it is essential to examine the dataset and carefully select the features that will serve as inputs for the model..\n"
      ]
    },
    {
      "cell_type": "markdown",
      "metadata": {
        "id": "5c93e072-17db-4f9c-b755-cd011cd2b22f"
      },
      "source": [
        "### Load and explore the dataset\n"
      ]
    },
    {
      "cell_type": "markdown",
      "metadata": {
        "id": "03fdc466-436e-41d5-8b69-73e01b4c8aa0"
      },
      "source": [
        "First, let's load the dataset as a `Pandas` dataframe and conduct some basic EDA tasks on it.\n"
      ]
    },
    {
      "cell_type": "code",
      "metadata": {
        "id": "f34e6143-bfaa-49d8-bf27-a0a8f6c9eed3"
      },
      "outputs": [],
      "source": [
        "# Load the dataset\n",
        "dataset_url = \"https://cf-courses-data.s3.us.cloud-object-storage.appdomain.cloud/IBM-ML241EN-SkillsNetwork/labs/datasets/food_items.csv\"\n",
        "food_df = pd.read_csv(dataset_url)"
      ],
      "execution_count": 74
    },
    {
      "cell_type": "markdown",
      "metadata": {
        "id": "37250b6f-ee6c-4ee8-b1e0-722412eaa0f6"
      },
      "source": [
        "And, let's quickly check its column types.\n"
      ]
    },
    {
      "cell_type": "code",
      "metadata": {
        "colab": {
          "base_uri": "https://localhost:8080/"
        },
        "id": "7b673c25-3186-4748-89bc-6dc4b844d1dc",
        "outputId": "43261d50-4f69-4f11-f8cd-ea695a14b76f"
      },
      "outputs": [
        {
          "output_type": "execute_result",
          "data": {
            "text/plain": [
              "Calories               float64\n",
              "Total Fat                int64\n",
              "Saturated Fat          float64\n",
              "Monounsaturated Fat    float64\n",
              "Polyunsaturated Fat    float64\n",
              "Trans Fat              float64\n",
              "Cholesterol              int64\n",
              "Sodium                 float64\n",
              "Total Carbohydrate     float64\n",
              "Dietary Fiber          float64\n",
              "Sugars                 float64\n",
              "Sugar Alcohol            int64\n",
              "Protein                float64\n",
              "Vitamin A                int64\n",
              "Vitamin C                int64\n",
              "Calcium                  int64\n",
              "Iron                     int64\n",
              "class                   object\n",
              "dtype: object"
            ]
          },
          "metadata": {},
          "execution_count": 75
        }
      ],
      "source": [
        "food_df.dtypes"
      ],
      "execution_count": 75
    },
    {
      "cell_type": "markdown",
      "metadata": {
        "id": "18f376dc-1e75-40be-9a25-d924185806fb"
      },
      "source": [
        "Print the first ten food items:\n"
      ]
    },
    {
      "cell_type": "code",
      "metadata": {
        "colab": {
          "base_uri": "https://localhost:8080/",
          "height": 574
        },
        "id": "7f899b29-f894-42f8-9014-0e3b9d03f2bd",
        "outputId": "27f99b89-3e49-4b1f-f844-6dad3df3d27a"
      },
      "outputs": [
        {
          "output_type": "execute_result",
          "data": {
            "text/plain": [
              "   Calories  Total Fat  Saturated Fat  Monounsaturated Fat  \\\n",
              "0     149.0          0            0.0                  0.0   \n",
              "1     123.0          0            0.0                  0.0   \n",
              "2     150.0          0            0.0                  0.0   \n",
              "3     110.0          0            0.0                  0.0   \n",
              "4     143.0          0            0.0                  0.0   \n",
              "5     110.0          0            0.0                  0.0   \n",
              "6     142.0          0            0.0                  0.0   \n",
              "7     102.0          0            0.0                  0.0   \n",
              "8     145.0          0            0.0                  0.0   \n",
              "9     171.0          0            0.0                  0.0   \n",
              "\n",
              "   Polyunsaturated Fat  Trans Fat  Cholesterol  Sodium  Total Carbohydrate  \\\n",
              "0                  0.0        0.0            0     9.0                 9.8   \n",
              "1                  0.0        0.0            0     5.0                 6.6   \n",
              "2                  0.0        0.0            0     4.0                11.4   \n",
              "3                  0.0        0.0            0     6.0                 7.0   \n",
              "4                  0.0        0.0            0     7.0                13.1   \n",
              "5                  0.0        0.0            0     6.0                 7.0   \n",
              "6                  0.0        0.0            0    12.0                10.6   \n",
              "7                  0.0        0.0            0    13.0                 5.0   \n",
              "8                  0.0        0.0            0    17.0                11.0   \n",
              "9                  0.0        0.0            0     8.0                13.7   \n",
              "\n",
              "   Dietary Fiber  Sugars  Sugar Alcohol  Protein  Vitamin A  Vitamin C  \\\n",
              "0            0.0     0.0              0      1.3          0          0   \n",
              "1            0.0     0.0              0      0.8          0          0   \n",
              "2            0.0     0.0              0      1.3          0          0   \n",
              "3            0.0     0.0              0      0.8          0          0   \n",
              "4            0.0     0.0              0      1.0          0          0   \n",
              "5            0.0     0.0              0      0.8          0          0   \n",
              "6            0.0     0.0              0      1.2          0          0   \n",
              "7            0.0     0.0              0      0.7          0          0   \n",
              "8            0.0     0.0              0      1.2          0          0   \n",
              "9            0.0     0.0              0      2.5          0          0   \n",
              "\n",
              "   Calcium  Iron            class  \n",
              "0        0     0  'In Moderation'  \n",
              "1        0     0  'In Moderation'  \n",
              "2        0     0  'In Moderation'  \n",
              "3        0     0  'In Moderation'  \n",
              "4        0     0  'In Moderation'  \n",
              "5        0     0  'In Moderation'  \n",
              "6        0     0  'In Moderation'  \n",
              "7        0     0  'In Moderation'  \n",
              "8        0     0  'In Moderation'  \n",
              "9        0     0  'In Moderation'  "
            ],
            "text/html": [
              "\n",
              "  <div id=\"df-2242175b-8bde-4006-841b-cf9ce80978ad\" class=\"colab-df-container\">\n",
              "    <div>\n",
              "<style scoped>\n",
              "    .dataframe tbody tr th:only-of-type {\n",
              "        vertical-align: middle;\n",
              "    }\n",
              "\n",
              "    .dataframe tbody tr th {\n",
              "        vertical-align: top;\n",
              "    }\n",
              "\n",
              "    .dataframe thead th {\n",
              "        text-align: right;\n",
              "    }\n",
              "</style>\n",
              "<table border=\"1\" class=\"dataframe\">\n",
              "  <thead>\n",
              "    <tr style=\"text-align: right;\">\n",
              "      <th></th>\n",
              "      <th>Calories</th>\n",
              "      <th>Total Fat</th>\n",
              "      <th>Saturated Fat</th>\n",
              "      <th>Monounsaturated Fat</th>\n",
              "      <th>Polyunsaturated Fat</th>\n",
              "      <th>Trans Fat</th>\n",
              "      <th>Cholesterol</th>\n",
              "      <th>Sodium</th>\n",
              "      <th>Total Carbohydrate</th>\n",
              "      <th>Dietary Fiber</th>\n",
              "      <th>Sugars</th>\n",
              "      <th>Sugar Alcohol</th>\n",
              "      <th>Protein</th>\n",
              "      <th>Vitamin A</th>\n",
              "      <th>Vitamin C</th>\n",
              "      <th>Calcium</th>\n",
              "      <th>Iron</th>\n",
              "      <th>class</th>\n",
              "    </tr>\n",
              "  </thead>\n",
              "  <tbody>\n",
              "    <tr>\n",
              "      <th>0</th>\n",
              "      <td>149.0</td>\n",
              "      <td>0</td>\n",
              "      <td>0.0</td>\n",
              "      <td>0.0</td>\n",
              "      <td>0.0</td>\n",
              "      <td>0.0</td>\n",
              "      <td>0</td>\n",
              "      <td>9.0</td>\n",
              "      <td>9.8</td>\n",
              "      <td>0.0</td>\n",
              "      <td>0.0</td>\n",
              "      <td>0</td>\n",
              "      <td>1.3</td>\n",
              "      <td>0</td>\n",
              "      <td>0</td>\n",
              "      <td>0</td>\n",
              "      <td>0</td>\n",
              "      <td>'In Moderation'</td>\n",
              "    </tr>\n",
              "    <tr>\n",
              "      <th>1</th>\n",
              "      <td>123.0</td>\n",
              "      <td>0</td>\n",
              "      <td>0.0</td>\n",
              "      <td>0.0</td>\n",
              "      <td>0.0</td>\n",
              "      <td>0.0</td>\n",
              "      <td>0</td>\n",
              "      <td>5.0</td>\n",
              "      <td>6.6</td>\n",
              "      <td>0.0</td>\n",
              "      <td>0.0</td>\n",
              "      <td>0</td>\n",
              "      <td>0.8</td>\n",
              "      <td>0</td>\n",
              "      <td>0</td>\n",
              "      <td>0</td>\n",
              "      <td>0</td>\n",
              "      <td>'In Moderation'</td>\n",
              "    </tr>\n",
              "    <tr>\n",
              "      <th>2</th>\n",
              "      <td>150.0</td>\n",
              "      <td>0</td>\n",
              "      <td>0.0</td>\n",
              "      <td>0.0</td>\n",
              "      <td>0.0</td>\n",
              "      <td>0.0</td>\n",
              "      <td>0</td>\n",
              "      <td>4.0</td>\n",
              "      <td>11.4</td>\n",
              "      <td>0.0</td>\n",
              "      <td>0.0</td>\n",
              "      <td>0</td>\n",
              "      <td>1.3</td>\n",
              "      <td>0</td>\n",
              "      <td>0</td>\n",
              "      <td>0</td>\n",
              "      <td>0</td>\n",
              "      <td>'In Moderation'</td>\n",
              "    </tr>\n",
              "    <tr>\n",
              "      <th>3</th>\n",
              "      <td>110.0</td>\n",
              "      <td>0</td>\n",
              "      <td>0.0</td>\n",
              "      <td>0.0</td>\n",
              "      <td>0.0</td>\n",
              "      <td>0.0</td>\n",
              "      <td>0</td>\n",
              "      <td>6.0</td>\n",
              "      <td>7.0</td>\n",
              "      <td>0.0</td>\n",
              "      <td>0.0</td>\n",
              "      <td>0</td>\n",
              "      <td>0.8</td>\n",
              "      <td>0</td>\n",
              "      <td>0</td>\n",
              "      <td>0</td>\n",
              "      <td>0</td>\n",
              "      <td>'In Moderation'</td>\n",
              "    </tr>\n",
              "    <tr>\n",
              "      <th>4</th>\n",
              "      <td>143.0</td>\n",
              "      <td>0</td>\n",
              "      <td>0.0</td>\n",
              "      <td>0.0</td>\n",
              "      <td>0.0</td>\n",
              "      <td>0.0</td>\n",
              "      <td>0</td>\n",
              "      <td>7.0</td>\n",
              "      <td>13.1</td>\n",
              "      <td>0.0</td>\n",
              "      <td>0.0</td>\n",
              "      <td>0</td>\n",
              "      <td>1.0</td>\n",
              "      <td>0</td>\n",
              "      <td>0</td>\n",
              "      <td>0</td>\n",
              "      <td>0</td>\n",
              "      <td>'In Moderation'</td>\n",
              "    </tr>\n",
              "    <tr>\n",
              "      <th>5</th>\n",
              "      <td>110.0</td>\n",
              "      <td>0</td>\n",
              "      <td>0.0</td>\n",
              "      <td>0.0</td>\n",
              "      <td>0.0</td>\n",
              "      <td>0.0</td>\n",
              "      <td>0</td>\n",
              "      <td>6.0</td>\n",
              "      <td>7.0</td>\n",
              "      <td>0.0</td>\n",
              "      <td>0.0</td>\n",
              "      <td>0</td>\n",
              "      <td>0.8</td>\n",
              "      <td>0</td>\n",
              "      <td>0</td>\n",
              "      <td>0</td>\n",
              "      <td>0</td>\n",
              "      <td>'In Moderation'</td>\n",
              "    </tr>\n",
              "    <tr>\n",
              "      <th>6</th>\n",
              "      <td>142.0</td>\n",
              "      <td>0</td>\n",
              "      <td>0.0</td>\n",
              "      <td>0.0</td>\n",
              "      <td>0.0</td>\n",
              "      <td>0.0</td>\n",
              "      <td>0</td>\n",
              "      <td>12.0</td>\n",
              "      <td>10.6</td>\n",
              "      <td>0.0</td>\n",
              "      <td>0.0</td>\n",
              "      <td>0</td>\n",
              "      <td>1.2</td>\n",
              "      <td>0</td>\n",
              "      <td>0</td>\n",
              "      <td>0</td>\n",
              "      <td>0</td>\n",
              "      <td>'In Moderation'</td>\n",
              "    </tr>\n",
              "    <tr>\n",
              "      <th>7</th>\n",
              "      <td>102.0</td>\n",
              "      <td>0</td>\n",
              "      <td>0.0</td>\n",
              "      <td>0.0</td>\n",
              "      <td>0.0</td>\n",
              "      <td>0.0</td>\n",
              "      <td>0</td>\n",
              "      <td>13.0</td>\n",
              "      <td>5.0</td>\n",
              "      <td>0.0</td>\n",
              "      <td>0.0</td>\n",
              "      <td>0</td>\n",
              "      <td>0.7</td>\n",
              "      <td>0</td>\n",
              "      <td>0</td>\n",
              "      <td>0</td>\n",
              "      <td>0</td>\n",
              "      <td>'In Moderation'</td>\n",
              "    </tr>\n",
              "    <tr>\n",
              "      <th>8</th>\n",
              "      <td>145.0</td>\n",
              "      <td>0</td>\n",
              "      <td>0.0</td>\n",
              "      <td>0.0</td>\n",
              "      <td>0.0</td>\n",
              "      <td>0.0</td>\n",
              "      <td>0</td>\n",
              "      <td>17.0</td>\n",
              "      <td>11.0</td>\n",
              "      <td>0.0</td>\n",
              "      <td>0.0</td>\n",
              "      <td>0</td>\n",
              "      <td>1.2</td>\n",
              "      <td>0</td>\n",
              "      <td>0</td>\n",
              "      <td>0</td>\n",
              "      <td>0</td>\n",
              "      <td>'In Moderation'</td>\n",
              "    </tr>\n",
              "    <tr>\n",
              "      <th>9</th>\n",
              "      <td>171.0</td>\n",
              "      <td>0</td>\n",
              "      <td>0.0</td>\n",
              "      <td>0.0</td>\n",
              "      <td>0.0</td>\n",
              "      <td>0.0</td>\n",
              "      <td>0</td>\n",
              "      <td>8.0</td>\n",
              "      <td>13.7</td>\n",
              "      <td>0.0</td>\n",
              "      <td>0.0</td>\n",
              "      <td>0</td>\n",
              "      <td>2.5</td>\n",
              "      <td>0</td>\n",
              "      <td>0</td>\n",
              "      <td>0</td>\n",
              "      <td>0</td>\n",
              "      <td>'In Moderation'</td>\n",
              "    </tr>\n",
              "  </tbody>\n",
              "</table>\n",
              "</div>\n",
              "    <div class=\"colab-df-buttons\">\n",
              "\n",
              "  <div class=\"colab-df-container\">\n",
              "    <button class=\"colab-df-convert\" onclick=\"convertToInteractive('df-2242175b-8bde-4006-841b-cf9ce80978ad')\"\n",
              "            title=\"Convert this dataframe to an interactive table.\"\n",
              "            style=\"display:none;\">\n",
              "\n",
              "  <svg xmlns=\"http://www.w3.org/2000/svg\" height=\"24px\" viewBox=\"0 -960 960 960\">\n",
              "    <path d=\"M120-120v-720h720v720H120Zm60-500h600v-160H180v160Zm220 220h160v-160H400v160Zm0 220h160v-160H400v160ZM180-400h160v-160H180v160Zm440 0h160v-160H620v160ZM180-180h160v-160H180v160Zm440 0h160v-160H620v160Z\"/>\n",
              "  </svg>\n",
              "    </button>\n",
              "\n",
              "  <style>\n",
              "    .colab-df-container {\n",
              "      display:flex;\n",
              "      gap: 12px;\n",
              "    }\n",
              "\n",
              "    .colab-df-convert {\n",
              "      background-color: #E8F0FE;\n",
              "      border: none;\n",
              "      border-radius: 50%;\n",
              "      cursor: pointer;\n",
              "      display: none;\n",
              "      fill: #1967D2;\n",
              "      height: 32px;\n",
              "      padding: 0 0 0 0;\n",
              "      width: 32px;\n",
              "    }\n",
              "\n",
              "    .colab-df-convert:hover {\n",
              "      background-color: #E2EBFA;\n",
              "      box-shadow: 0px 1px 2px rgba(60, 64, 67, 0.3), 0px 1px 3px 1px rgba(60, 64, 67, 0.15);\n",
              "      fill: #174EA6;\n",
              "    }\n",
              "\n",
              "    .colab-df-buttons div {\n",
              "      margin-bottom: 4px;\n",
              "    }\n",
              "\n",
              "    [theme=dark] .colab-df-convert {\n",
              "      background-color: #3B4455;\n",
              "      fill: #D2E3FC;\n",
              "    }\n",
              "\n",
              "    [theme=dark] .colab-df-convert:hover {\n",
              "      background-color: #434B5C;\n",
              "      box-shadow: 0px 1px 3px 1px rgba(0, 0, 0, 0.15);\n",
              "      filter: drop-shadow(0px 1px 2px rgba(0, 0, 0, 0.3));\n",
              "      fill: #FFFFFF;\n",
              "    }\n",
              "  </style>\n",
              "\n",
              "    <script>\n",
              "      const buttonEl =\n",
              "        document.querySelector('#df-2242175b-8bde-4006-841b-cf9ce80978ad button.colab-df-convert');\n",
              "      buttonEl.style.display =\n",
              "        google.colab.kernel.accessAllowed ? 'block' : 'none';\n",
              "\n",
              "      async function convertToInteractive(key) {\n",
              "        const element = document.querySelector('#df-2242175b-8bde-4006-841b-cf9ce80978ad');\n",
              "        const dataTable =\n",
              "          await google.colab.kernel.invokeFunction('convertToInteractive',\n",
              "                                                    [key], {});\n",
              "        if (!dataTable) return;\n",
              "\n",
              "        const docLinkHtml = 'Like what you see? Visit the ' +\n",
              "          '<a target=\"_blank\" href=https://colab.research.google.com/notebooks/data_table.ipynb>data table notebook</a>'\n",
              "          + ' to learn more about interactive tables.';\n",
              "        element.innerHTML = '';\n",
              "        dataTable['output_type'] = 'display_data';\n",
              "        await google.colab.output.renderOutput(dataTable, element);\n",
              "        const docLink = document.createElement('div');\n",
              "        docLink.innerHTML = docLinkHtml;\n",
              "        element.appendChild(docLink);\n",
              "      }\n",
              "    </script>\n",
              "  </div>\n",
              "\n",
              "\n",
              "<div id=\"df-0aa77d3f-37fe-4699-abc1-ba1d20d42bac\">\n",
              "  <button class=\"colab-df-quickchart\" onclick=\"quickchart('df-0aa77d3f-37fe-4699-abc1-ba1d20d42bac')\"\n",
              "            title=\"Suggest charts\"\n",
              "            style=\"display:none;\">\n",
              "\n",
              "<svg xmlns=\"http://www.w3.org/2000/svg\" height=\"24px\"viewBox=\"0 0 24 24\"\n",
              "     width=\"24px\">\n",
              "    <g>\n",
              "        <path d=\"M19 3H5c-1.1 0-2 .9-2 2v14c0 1.1.9 2 2 2h14c1.1 0 2-.9 2-2V5c0-1.1-.9-2-2-2zM9 17H7v-7h2v7zm4 0h-2V7h2v10zm4 0h-2v-4h2v4z\"/>\n",
              "    </g>\n",
              "</svg>\n",
              "  </button>\n",
              "\n",
              "<style>\n",
              "  .colab-df-quickchart {\n",
              "      --bg-color: #E8F0FE;\n",
              "      --fill-color: #1967D2;\n",
              "      --hover-bg-color: #E2EBFA;\n",
              "      --hover-fill-color: #174EA6;\n",
              "      --disabled-fill-color: #AAA;\n",
              "      --disabled-bg-color: #DDD;\n",
              "  }\n",
              "\n",
              "  [theme=dark] .colab-df-quickchart {\n",
              "      --bg-color: #3B4455;\n",
              "      --fill-color: #D2E3FC;\n",
              "      --hover-bg-color: #434B5C;\n",
              "      --hover-fill-color: #FFFFFF;\n",
              "      --disabled-bg-color: #3B4455;\n",
              "      --disabled-fill-color: #666;\n",
              "  }\n",
              "\n",
              "  .colab-df-quickchart {\n",
              "    background-color: var(--bg-color);\n",
              "    border: none;\n",
              "    border-radius: 50%;\n",
              "    cursor: pointer;\n",
              "    display: none;\n",
              "    fill: var(--fill-color);\n",
              "    height: 32px;\n",
              "    padding: 0;\n",
              "    width: 32px;\n",
              "  }\n",
              "\n",
              "  .colab-df-quickchart:hover {\n",
              "    background-color: var(--hover-bg-color);\n",
              "    box-shadow: 0 1px 2px rgba(60, 64, 67, 0.3), 0 1px 3px 1px rgba(60, 64, 67, 0.15);\n",
              "    fill: var(--button-hover-fill-color);\n",
              "  }\n",
              "\n",
              "  .colab-df-quickchart-complete:disabled,\n",
              "  .colab-df-quickchart-complete:disabled:hover {\n",
              "    background-color: var(--disabled-bg-color);\n",
              "    fill: var(--disabled-fill-color);\n",
              "    box-shadow: none;\n",
              "  }\n",
              "\n",
              "  .colab-df-spinner {\n",
              "    border: 2px solid var(--fill-color);\n",
              "    border-color: transparent;\n",
              "    border-bottom-color: var(--fill-color);\n",
              "    animation:\n",
              "      spin 1s steps(1) infinite;\n",
              "  }\n",
              "\n",
              "  @keyframes spin {\n",
              "    0% {\n",
              "      border-color: transparent;\n",
              "      border-bottom-color: var(--fill-color);\n",
              "      border-left-color: var(--fill-color);\n",
              "    }\n",
              "    20% {\n",
              "      border-color: transparent;\n",
              "      border-left-color: var(--fill-color);\n",
              "      border-top-color: var(--fill-color);\n",
              "    }\n",
              "    30% {\n",
              "      border-color: transparent;\n",
              "      border-left-color: var(--fill-color);\n",
              "      border-top-color: var(--fill-color);\n",
              "      border-right-color: var(--fill-color);\n",
              "    }\n",
              "    40% {\n",
              "      border-color: transparent;\n",
              "      border-right-color: var(--fill-color);\n",
              "      border-top-color: var(--fill-color);\n",
              "    }\n",
              "    60% {\n",
              "      border-color: transparent;\n",
              "      border-right-color: var(--fill-color);\n",
              "    }\n",
              "    80% {\n",
              "      border-color: transparent;\n",
              "      border-right-color: var(--fill-color);\n",
              "      border-bottom-color: var(--fill-color);\n",
              "    }\n",
              "    90% {\n",
              "      border-color: transparent;\n",
              "      border-bottom-color: var(--fill-color);\n",
              "    }\n",
              "  }\n",
              "</style>\n",
              "\n",
              "  <script>\n",
              "    async function quickchart(key) {\n",
              "      const quickchartButtonEl =\n",
              "        document.querySelector('#' + key + ' button');\n",
              "      quickchartButtonEl.disabled = true;  // To prevent multiple clicks.\n",
              "      quickchartButtonEl.classList.add('colab-df-spinner');\n",
              "      try {\n",
              "        const charts = await google.colab.kernel.invokeFunction(\n",
              "            'suggestCharts', [key], {});\n",
              "      } catch (error) {\n",
              "        console.error('Error during call to suggestCharts:', error);\n",
              "      }\n",
              "      quickchartButtonEl.classList.remove('colab-df-spinner');\n",
              "      quickchartButtonEl.classList.add('colab-df-quickchart-complete');\n",
              "    }\n",
              "    (() => {\n",
              "      let quickchartButtonEl =\n",
              "        document.querySelector('#df-0aa77d3f-37fe-4699-abc1-ba1d20d42bac button');\n",
              "      quickchartButtonEl.style.display =\n",
              "        google.colab.kernel.accessAllowed ? 'block' : 'none';\n",
              "    })();\n",
              "  </script>\n",
              "</div>\n",
              "\n",
              "    </div>\n",
              "  </div>\n"
            ],
            "application/vnd.google.colaboratory.intrinsic+json": {
              "type": "dataframe",
              "variable_name": "food_df",
              "summary": "{\n  \"name\": \"food_df\",\n  \"rows\": 13260,\n  \"fields\": [\n    {\n      \"column\": \"Calories\",\n      \"properties\": {\n        \"dtype\": \"number\",\n        \"std\": 94.22764960188483,\n        \"min\": 0.0,\n        \"max\": 2210.0,\n        \"num_unique_values\": 275,\n        \"samples\": [\n          188.0,\n          0.8,\n          215.0\n        ],\n        \"semantic_type\": \"\",\n        \"description\": \"\"\n      }\n    },\n    {\n      \"column\": \"Total Fat\",\n      \"properties\": {\n        \"dtype\": \"number\",\n        \"std\": 5,\n        \"min\": 0,\n        \"max\": 43,\n        \"num_unique_values\": 42,\n        \"samples\": [\n          27,\n          12,\n          9\n        ],\n        \"semantic_type\": \"\",\n        \"description\": \"\"\n      }\n    },\n    {\n      \"column\": \"Saturated Fat\",\n      \"properties\": {\n        \"dtype\": \"number\",\n        \"std\": 2.410317953817673,\n        \"min\": 0.0,\n        \"max\": 22.0,\n        \"num_unique_values\": 53,\n        \"samples\": [\n          2.6,\n          12.5,\n          5.2\n        ],\n        \"semantic_type\": \"\",\n        \"description\": \"\"\n      }\n    },\n    {\n      \"column\": \"Monounsaturated Fat\",\n      \"properties\": {\n        \"dtype\": \"number\",\n        \"std\": 1.3458519282554706,\n        \"min\": 0.0,\n        \"max\": 40.0,\n        \"num_unique_values\": 47,\n        \"samples\": [\n          3.2,\n          3.7,\n          11.0\n        ],\n        \"semantic_type\": \"\",\n        \"description\": \"\"\n      }\n    },\n    {\n      \"column\": \"Polyunsaturated Fat\",\n      \"properties\": {\n        \"dtype\": \"number\",\n        \"std\": 2.2305859491557,\n        \"min\": 0.0,\n        \"max\": 235.0,\n        \"num_unique_values\": 43,\n        \"samples\": [\n          17.5,\n          5.6,\n          0.7\n        ],\n        \"semantic_type\": \"\",\n        \"description\": \"\"\n      }\n    },\n    {\n      \"column\": \"Trans Fat\",\n      \"properties\": {\n        \"dtype\": \"number\",\n        \"std\": 0.3214019594885684,\n        \"min\": 0.0,\n        \"max\": 11.0,\n        \"num_unique_values\": 18,\n        \"samples\": [\n          0.0,\n          1.5,\n          3.0\n        ],\n        \"semantic_type\": \"\",\n        \"description\": \"\"\n      }\n    },\n    {\n      \"column\": \"Cholesterol\",\n      \"properties\": {\n        \"dtype\": \"number\",\n        \"std\": 20,\n        \"min\": 0,\n        \"max\": 450,\n        \"num_unique_values\": 106,\n        \"samples\": [\n          11,\n          25,\n          20\n        ],\n        \"semantic_type\": \"\",\n        \"description\": \"\"\n      }\n    },\n    {\n      \"column\": \"Sodium\",\n      \"properties\": {\n        \"dtype\": \"number\",\n        \"std\": 272.2843634923498,\n        \"min\": 0.0,\n        \"max\": 2431.0,\n        \"num_unique_values\": 347,\n        \"samples\": [\n          1899.0,\n          870.0,\n          2431.0\n        ],\n        \"semantic_type\": \"\",\n        \"description\": \"\"\n      }\n    },\n    {\n      \"column\": \"Total Carbohydrate\",\n      \"properties\": {\n        \"dtype\": \"number\",\n        \"std\": 14.786316286047265,\n        \"min\": 0.0,\n        \"max\": 270.0,\n        \"num_unique_values\": 139,\n        \"samples\": [\n          86.0,\n          26.0,\n          14.1\n        ],\n        \"semantic_type\": \"\",\n        \"description\": \"\"\n      }\n    },\n    {\n      \"column\": \"Dietary Fiber\",\n      \"properties\": {\n        \"dtype\": \"number\",\n        \"std\": 3.3638791823225014,\n        \"min\": 0.0,\n        \"max\": 305.0,\n        \"num_unique_values\": 37,\n        \"samples\": [\n          12.0,\n          11.0,\n          4.0\n        ],\n        \"semantic_type\": \"\",\n        \"description\": \"\"\n      }\n    },\n    {\n      \"column\": \"Sugars\",\n      \"properties\": {\n        \"dtype\": \"number\",\n        \"std\": 8.32846520903822,\n        \"min\": 0.0,\n        \"max\": 115.0,\n        \"num_unique_values\": 59,\n        \"samples\": [\n          0.0,\n          5.0,\n          35.0\n        ],\n        \"semantic_type\": \"\",\n        \"description\": \"\"\n      }\n    },\n    {\n      \"column\": \"Sugar Alcohol\",\n      \"properties\": {\n        \"dtype\": \"number\",\n        \"std\": 1,\n        \"min\": 0,\n        \"max\": 31,\n        \"num_unique_values\": 24,\n        \"samples\": [\n          15,\n          17,\n          0\n        ],\n        \"semantic_type\": \"\",\n        \"description\": \"\"\n      }\n    },\n    {\n      \"column\": \"Protein\",\n      \"properties\": {\n        \"dtype\": \"number\",\n        \"std\": 5.61114286569543,\n        \"min\": 0.0,\n        \"max\": 70.0,\n        \"num_unique_values\": 62,\n        \"samples\": [\n          26.0,\n          33.0,\n          1.3\n        ],\n        \"semantic_type\": \"\",\n        \"description\": \"\"\n      }\n    },\n    {\n      \"column\": \"Vitamin A\",\n      \"properties\": {\n        \"dtype\": \"number\",\n        \"std\": 18,\n        \"min\": 0,\n        \"max\": 622,\n        \"num_unique_values\": 64,\n        \"samples\": [\n          622,\n          29,\n          0\n        ],\n        \"semantic_type\": \"\",\n        \"description\": \"\"\n      }\n    },\n    {\n      \"column\": \"Vitamin C\",\n      \"properties\": {\n        \"dtype\": \"number\",\n        \"std\": 23,\n        \"min\": 0,\n        \"max\": 1000,\n        \"num_unique_values\": 65,\n        \"samples\": [\n          28,\n          53,\n          0\n        ],\n        \"semantic_type\": \"\",\n        \"description\": \"\"\n      }\n    },\n    {\n      \"column\": \"Calcium\",\n      \"properties\": {\n        \"dtype\": \"number\",\n        \"std\": 8,\n        \"min\": 0,\n        \"max\": 110,\n        \"num_unique_values\": 37,\n        \"samples\": [\n          13,\n          40,\n          4\n        ],\n        \"semantic_type\": \"\",\n        \"description\": \"\"\n      }\n    },\n    {\n      \"column\": \"Iron\",\n      \"properties\": {\n        \"dtype\": \"number\",\n        \"std\": 9,\n        \"min\": 0,\n        \"max\": 170,\n        \"num_unique_values\": 38,\n        \"samples\": [\n          22,\n          28,\n          2\n        ],\n        \"semantic_type\": \"\",\n        \"description\": \"\"\n      }\n    },\n    {\n      \"column\": \"class\",\n      \"properties\": {\n        \"dtype\": \"category\",\n        \"num_unique_values\": 3,\n        \"samples\": [\n          \"'In Moderation'\",\n          \"'Less Often'\",\n          \"'More Often'\"\n        ],\n        \"semantic_type\": \"\",\n        \"description\": \"\"\n      }\n    }\n  ]\n}"
            }
          },
          "metadata": {},
          "execution_count": 76
        }
      ],
      "source": [
        "\n",
        "food_df.head(10)"
      ],
      "execution_count": 76
    },
    {
      "cell_type": "markdown",
      "metadata": {
        "id": "42636224-1480-462a-b13b-6c8e56c49f4a"
      },
      "source": [
        "Get the row entries with col 0 to -1 (16).\n"
      ]
    },
    {
      "cell_type": "code",
      "metadata": {
        "colab": {
          "base_uri": "https://localhost:8080/"
        },
        "id": "51bda2c3-235b-42e9-94b6-7bf83b12a5a3",
        "outputId": "3adbee2c-805d-4d82-baae-751f8d731e69"
      },
      "outputs": [
        {
          "output_type": "execute_result",
          "data": {
            "text/plain": [
              "['Calories',\n",
              " 'Total Fat',\n",
              " 'Saturated Fat',\n",
              " 'Monounsaturated Fat',\n",
              " 'Polyunsaturated Fat',\n",
              " 'Trans Fat',\n",
              " 'Cholesterol',\n",
              " 'Sodium',\n",
              " 'Total Carbohydrate',\n",
              " 'Dietary Fiber',\n",
              " 'Sugars',\n",
              " 'Sugar Alcohol',\n",
              " 'Protein',\n",
              " 'Vitamin A',\n",
              " 'Vitamin C',\n",
              " 'Calcium',\n",
              " 'Iron']"
            ]
          },
          "metadata": {},
          "execution_count": 77
        }
      ],
      "source": [
        "\n",
        "feature_cols = list(food_df.iloc[:, :-1].columns)\n",
        "feature_cols"
      ],
      "execution_count": 77
    },
    {
      "cell_type": "markdown",
      "metadata": {
        "id": "92fd1c08-c1f1-4b01-8b8c-40e3379186c6"
      },
      "source": [
        "Obtain descriptive statistics:\n"
      ]
    },
    {
      "cell_type": "code",
      "metadata": {
        "colab": {
          "base_uri": "https://localhost:8080/",
          "height": 337
        },
        "id": "daae9545-4d51-4020-b3ac-3ce16104eb91",
        "outputId": "76e8e1db-0820-4fe8-f87e-f565f9a49a6a"
      },
      "outputs": [
        {
          "output_type": "execute_result",
          "data": {
            "text/plain": [
              "           Calories     Total Fat  Saturated Fat  Monounsaturated Fat  \\\n",
              "count  13260.000000  13260.000000   13260.000000         13260.000000   \n",
              "mean     133.861086      4.475264       1.450617             0.338069   \n",
              "std       94.227650      5.386340       2.410318             1.345852   \n",
              "min        0.000000      0.000000       0.000000             0.000000   \n",
              "25%       70.000000      0.000000       0.000000             0.000000   \n",
              "50%      120.000000      3.000000       0.500000             0.000000   \n",
              "75%      180.000000      7.000000       2.000000             0.000000   \n",
              "max     2210.000000     43.000000      22.000000            40.000000   \n",
              "\n",
              "       Polyunsaturated Fat     Trans Fat   Cholesterol        Sodium  \\\n",
              "count         13260.000000  13260.000000  13260.000000  13260.000000   \n",
              "mean              0.254660      0.047459      8.857692    241.867142   \n",
              "std               2.230586      0.321402     20.976530    272.284363   \n",
              "min               0.000000      0.000000      0.000000      0.000000   \n",
              "25%               0.000000      0.000000      0.000000     40.000000   \n",
              "50%               0.000000      0.000000      0.000000    135.000000   \n",
              "75%               0.000000      0.000000     10.000000    370.000000   \n",
              "max             235.000000     11.000000    450.000000   2431.000000   \n",
              "\n",
              "       Total Carbohydrate  Dietary Fiber        Sugars  Sugar Alcohol  \\\n",
              "count        13260.000000   13260.000000  13260.000000   13260.000000   \n",
              "mean            18.232020       1.602971      6.645234       0.117949   \n",
              "std             14.786316       3.363879      8.328465       1.121529   \n",
              "min              0.000000       0.000000      0.000000       0.000000   \n",
              "25%              5.000000       0.000000      0.000000       0.000000   \n",
              "50%             17.000000       1.000000      3.000000       0.000000   \n",
              "75%             27.000000       2.000000     11.000000       0.000000   \n",
              "max            270.000000     305.000000    115.000000      31.000000   \n",
              "\n",
              "            Protein     Vitamin A     Vitamin C       Calcium          Iron  \n",
              "count  13260.000000  13260.000000  13260.000000  13260.000000  13260.000000  \n",
              "mean       4.661333      6.287632      6.741855      5.175264      5.235671  \n",
              "std        5.611143     18.374191     23.785100      8.779637      9.119459  \n",
              "min        0.000000      0.000000      0.000000      0.000000      0.000000  \n",
              "25%        1.000000      0.000000      0.000000      0.000000      0.000000  \n",
              "50%        3.000000      0.000000      0.000000      2.000000      2.000000  \n",
              "75%        7.000000      6.000000      2.000000      6.000000      8.000000  \n",
              "max       70.000000    622.000000   1000.000000    110.000000    170.000000  "
            ],
            "text/html": [
              "\n",
              "  <div id=\"df-4f11da13-6d36-4ba7-bb80-c19637bf6f2c\" class=\"colab-df-container\">\n",
              "    <div>\n",
              "<style scoped>\n",
              "    .dataframe tbody tr th:only-of-type {\n",
              "        vertical-align: middle;\n",
              "    }\n",
              "\n",
              "    .dataframe tbody tr th {\n",
              "        vertical-align: top;\n",
              "    }\n",
              "\n",
              "    .dataframe thead th {\n",
              "        text-align: right;\n",
              "    }\n",
              "</style>\n",
              "<table border=\"1\" class=\"dataframe\">\n",
              "  <thead>\n",
              "    <tr style=\"text-align: right;\">\n",
              "      <th></th>\n",
              "      <th>Calories</th>\n",
              "      <th>Total Fat</th>\n",
              "      <th>Saturated Fat</th>\n",
              "      <th>Monounsaturated Fat</th>\n",
              "      <th>Polyunsaturated Fat</th>\n",
              "      <th>Trans Fat</th>\n",
              "      <th>Cholesterol</th>\n",
              "      <th>Sodium</th>\n",
              "      <th>Total Carbohydrate</th>\n",
              "      <th>Dietary Fiber</th>\n",
              "      <th>Sugars</th>\n",
              "      <th>Sugar Alcohol</th>\n",
              "      <th>Protein</th>\n",
              "      <th>Vitamin A</th>\n",
              "      <th>Vitamin C</th>\n",
              "      <th>Calcium</th>\n",
              "      <th>Iron</th>\n",
              "    </tr>\n",
              "  </thead>\n",
              "  <tbody>\n",
              "    <tr>\n",
              "      <th>count</th>\n",
              "      <td>13260.000000</td>\n",
              "      <td>13260.000000</td>\n",
              "      <td>13260.000000</td>\n",
              "      <td>13260.000000</td>\n",
              "      <td>13260.000000</td>\n",
              "      <td>13260.000000</td>\n",
              "      <td>13260.000000</td>\n",
              "      <td>13260.000000</td>\n",
              "      <td>13260.000000</td>\n",
              "      <td>13260.000000</td>\n",
              "      <td>13260.000000</td>\n",
              "      <td>13260.000000</td>\n",
              "      <td>13260.000000</td>\n",
              "      <td>13260.000000</td>\n",
              "      <td>13260.000000</td>\n",
              "      <td>13260.000000</td>\n",
              "      <td>13260.000000</td>\n",
              "    </tr>\n",
              "    <tr>\n",
              "      <th>mean</th>\n",
              "      <td>133.861086</td>\n",
              "      <td>4.475264</td>\n",
              "      <td>1.450617</td>\n",
              "      <td>0.338069</td>\n",
              "      <td>0.254660</td>\n",
              "      <td>0.047459</td>\n",
              "      <td>8.857692</td>\n",
              "      <td>241.867142</td>\n",
              "      <td>18.232020</td>\n",
              "      <td>1.602971</td>\n",
              "      <td>6.645234</td>\n",
              "      <td>0.117949</td>\n",
              "      <td>4.661333</td>\n",
              "      <td>6.287632</td>\n",
              "      <td>6.741855</td>\n",
              "      <td>5.175264</td>\n",
              "      <td>5.235671</td>\n",
              "    </tr>\n",
              "    <tr>\n",
              "      <th>std</th>\n",
              "      <td>94.227650</td>\n",
              "      <td>5.386340</td>\n",
              "      <td>2.410318</td>\n",
              "      <td>1.345852</td>\n",
              "      <td>2.230586</td>\n",
              "      <td>0.321402</td>\n",
              "      <td>20.976530</td>\n",
              "      <td>272.284363</td>\n",
              "      <td>14.786316</td>\n",
              "      <td>3.363879</td>\n",
              "      <td>8.328465</td>\n",
              "      <td>1.121529</td>\n",
              "      <td>5.611143</td>\n",
              "      <td>18.374191</td>\n",
              "      <td>23.785100</td>\n",
              "      <td>8.779637</td>\n",
              "      <td>9.119459</td>\n",
              "    </tr>\n",
              "    <tr>\n",
              "      <th>min</th>\n",
              "      <td>0.000000</td>\n",
              "      <td>0.000000</td>\n",
              "      <td>0.000000</td>\n",
              "      <td>0.000000</td>\n",
              "      <td>0.000000</td>\n",
              "      <td>0.000000</td>\n",
              "      <td>0.000000</td>\n",
              "      <td>0.000000</td>\n",
              "      <td>0.000000</td>\n",
              "      <td>0.000000</td>\n",
              "      <td>0.000000</td>\n",
              "      <td>0.000000</td>\n",
              "      <td>0.000000</td>\n",
              "      <td>0.000000</td>\n",
              "      <td>0.000000</td>\n",
              "      <td>0.000000</td>\n",
              "      <td>0.000000</td>\n",
              "    </tr>\n",
              "    <tr>\n",
              "      <th>25%</th>\n",
              "      <td>70.000000</td>\n",
              "      <td>0.000000</td>\n",
              "      <td>0.000000</td>\n",
              "      <td>0.000000</td>\n",
              "      <td>0.000000</td>\n",
              "      <td>0.000000</td>\n",
              "      <td>0.000000</td>\n",
              "      <td>40.000000</td>\n",
              "      <td>5.000000</td>\n",
              "      <td>0.000000</td>\n",
              "      <td>0.000000</td>\n",
              "      <td>0.000000</td>\n",
              "      <td>1.000000</td>\n",
              "      <td>0.000000</td>\n",
              "      <td>0.000000</td>\n",
              "      <td>0.000000</td>\n",
              "      <td>0.000000</td>\n",
              "    </tr>\n",
              "    <tr>\n",
              "      <th>50%</th>\n",
              "      <td>120.000000</td>\n",
              "      <td>3.000000</td>\n",
              "      <td>0.500000</td>\n",
              "      <td>0.000000</td>\n",
              "      <td>0.000000</td>\n",
              "      <td>0.000000</td>\n",
              "      <td>0.000000</td>\n",
              "      <td>135.000000</td>\n",
              "      <td>17.000000</td>\n",
              "      <td>1.000000</td>\n",
              "      <td>3.000000</td>\n",
              "      <td>0.000000</td>\n",
              "      <td>3.000000</td>\n",
              "      <td>0.000000</td>\n",
              "      <td>0.000000</td>\n",
              "      <td>2.000000</td>\n",
              "      <td>2.000000</td>\n",
              "    </tr>\n",
              "    <tr>\n",
              "      <th>75%</th>\n",
              "      <td>180.000000</td>\n",
              "      <td>7.000000</td>\n",
              "      <td>2.000000</td>\n",
              "      <td>0.000000</td>\n",
              "      <td>0.000000</td>\n",
              "      <td>0.000000</td>\n",
              "      <td>10.000000</td>\n",
              "      <td>370.000000</td>\n",
              "      <td>27.000000</td>\n",
              "      <td>2.000000</td>\n",
              "      <td>11.000000</td>\n",
              "      <td>0.000000</td>\n",
              "      <td>7.000000</td>\n",
              "      <td>6.000000</td>\n",
              "      <td>2.000000</td>\n",
              "      <td>6.000000</td>\n",
              "      <td>8.000000</td>\n",
              "    </tr>\n",
              "    <tr>\n",
              "      <th>max</th>\n",
              "      <td>2210.000000</td>\n",
              "      <td>43.000000</td>\n",
              "      <td>22.000000</td>\n",
              "      <td>40.000000</td>\n",
              "      <td>235.000000</td>\n",
              "      <td>11.000000</td>\n",
              "      <td>450.000000</td>\n",
              "      <td>2431.000000</td>\n",
              "      <td>270.000000</td>\n",
              "      <td>305.000000</td>\n",
              "      <td>115.000000</td>\n",
              "      <td>31.000000</td>\n",
              "      <td>70.000000</td>\n",
              "      <td>622.000000</td>\n",
              "      <td>1000.000000</td>\n",
              "      <td>110.000000</td>\n",
              "      <td>170.000000</td>\n",
              "    </tr>\n",
              "  </tbody>\n",
              "</table>\n",
              "</div>\n",
              "    <div class=\"colab-df-buttons\">\n",
              "\n",
              "  <div class=\"colab-df-container\">\n",
              "    <button class=\"colab-df-convert\" onclick=\"convertToInteractive('df-4f11da13-6d36-4ba7-bb80-c19637bf6f2c')\"\n",
              "            title=\"Convert this dataframe to an interactive table.\"\n",
              "            style=\"display:none;\">\n",
              "\n",
              "  <svg xmlns=\"http://www.w3.org/2000/svg\" height=\"24px\" viewBox=\"0 -960 960 960\">\n",
              "    <path d=\"M120-120v-720h720v720H120Zm60-500h600v-160H180v160Zm220 220h160v-160H400v160Zm0 220h160v-160H400v160ZM180-400h160v-160H180v160Zm440 0h160v-160H620v160ZM180-180h160v-160H180v160Zm440 0h160v-160H620v160Z\"/>\n",
              "  </svg>\n",
              "    </button>\n",
              "\n",
              "  <style>\n",
              "    .colab-df-container {\n",
              "      display:flex;\n",
              "      gap: 12px;\n",
              "    }\n",
              "\n",
              "    .colab-df-convert {\n",
              "      background-color: #E8F0FE;\n",
              "      border: none;\n",
              "      border-radius: 50%;\n",
              "      cursor: pointer;\n",
              "      display: none;\n",
              "      fill: #1967D2;\n",
              "      height: 32px;\n",
              "      padding: 0 0 0 0;\n",
              "      width: 32px;\n",
              "    }\n",
              "\n",
              "    .colab-df-convert:hover {\n",
              "      background-color: #E2EBFA;\n",
              "      box-shadow: 0px 1px 2px rgba(60, 64, 67, 0.3), 0px 1px 3px 1px rgba(60, 64, 67, 0.15);\n",
              "      fill: #174EA6;\n",
              "    }\n",
              "\n",
              "    .colab-df-buttons div {\n",
              "      margin-bottom: 4px;\n",
              "    }\n",
              "\n",
              "    [theme=dark] .colab-df-convert {\n",
              "      background-color: #3B4455;\n",
              "      fill: #D2E3FC;\n",
              "    }\n",
              "\n",
              "    [theme=dark] .colab-df-convert:hover {\n",
              "      background-color: #434B5C;\n",
              "      box-shadow: 0px 1px 3px 1px rgba(0, 0, 0, 0.15);\n",
              "      filter: drop-shadow(0px 1px 2px rgba(0, 0, 0, 0.3));\n",
              "      fill: #FFFFFF;\n",
              "    }\n",
              "  </style>\n",
              "\n",
              "    <script>\n",
              "      const buttonEl =\n",
              "        document.querySelector('#df-4f11da13-6d36-4ba7-bb80-c19637bf6f2c button.colab-df-convert');\n",
              "      buttonEl.style.display =\n",
              "        google.colab.kernel.accessAllowed ? 'block' : 'none';\n",
              "\n",
              "      async function convertToInteractive(key) {\n",
              "        const element = document.querySelector('#df-4f11da13-6d36-4ba7-bb80-c19637bf6f2c');\n",
              "        const dataTable =\n",
              "          await google.colab.kernel.invokeFunction('convertToInteractive',\n",
              "                                                    [key], {});\n",
              "        if (!dataTable) return;\n",
              "\n",
              "        const docLinkHtml = 'Like what you see? Visit the ' +\n",
              "          '<a target=\"_blank\" href=https://colab.research.google.com/notebooks/data_table.ipynb>data table notebook</a>'\n",
              "          + ' to learn more about interactive tables.';\n",
              "        element.innerHTML = '';\n",
              "        dataTable['output_type'] = 'display_data';\n",
              "        await google.colab.output.renderOutput(dataTable, element);\n",
              "        const docLink = document.createElement('div');\n",
              "        docLink.innerHTML = docLinkHtml;\n",
              "        element.appendChild(docLink);\n",
              "      }\n",
              "    </script>\n",
              "  </div>\n",
              "\n",
              "\n",
              "<div id=\"df-626f8d3a-5191-4a6b-a576-187327e32303\">\n",
              "  <button class=\"colab-df-quickchart\" onclick=\"quickchart('df-626f8d3a-5191-4a6b-a576-187327e32303')\"\n",
              "            title=\"Suggest charts\"\n",
              "            style=\"display:none;\">\n",
              "\n",
              "<svg xmlns=\"http://www.w3.org/2000/svg\" height=\"24px\"viewBox=\"0 0 24 24\"\n",
              "     width=\"24px\">\n",
              "    <g>\n",
              "        <path d=\"M19 3H5c-1.1 0-2 .9-2 2v14c0 1.1.9 2 2 2h14c1.1 0 2-.9 2-2V5c0-1.1-.9-2-2-2zM9 17H7v-7h2v7zm4 0h-2V7h2v10zm4 0h-2v-4h2v4z\"/>\n",
              "    </g>\n",
              "</svg>\n",
              "  </button>\n",
              "\n",
              "<style>\n",
              "  .colab-df-quickchart {\n",
              "      --bg-color: #E8F0FE;\n",
              "      --fill-color: #1967D2;\n",
              "      --hover-bg-color: #E2EBFA;\n",
              "      --hover-fill-color: #174EA6;\n",
              "      --disabled-fill-color: #AAA;\n",
              "      --disabled-bg-color: #DDD;\n",
              "  }\n",
              "\n",
              "  [theme=dark] .colab-df-quickchart {\n",
              "      --bg-color: #3B4455;\n",
              "      --fill-color: #D2E3FC;\n",
              "      --hover-bg-color: #434B5C;\n",
              "      --hover-fill-color: #FFFFFF;\n",
              "      --disabled-bg-color: #3B4455;\n",
              "      --disabled-fill-color: #666;\n",
              "  }\n",
              "\n",
              "  .colab-df-quickchart {\n",
              "    background-color: var(--bg-color);\n",
              "    border: none;\n",
              "    border-radius: 50%;\n",
              "    cursor: pointer;\n",
              "    display: none;\n",
              "    fill: var(--fill-color);\n",
              "    height: 32px;\n",
              "    padding: 0;\n",
              "    width: 32px;\n",
              "  }\n",
              "\n",
              "  .colab-df-quickchart:hover {\n",
              "    background-color: var(--hover-bg-color);\n",
              "    box-shadow: 0 1px 2px rgba(60, 64, 67, 0.3), 0 1px 3px 1px rgba(60, 64, 67, 0.15);\n",
              "    fill: var(--button-hover-fill-color);\n",
              "  }\n",
              "\n",
              "  .colab-df-quickchart-complete:disabled,\n",
              "  .colab-df-quickchart-complete:disabled:hover {\n",
              "    background-color: var(--disabled-bg-color);\n",
              "    fill: var(--disabled-fill-color);\n",
              "    box-shadow: none;\n",
              "  }\n",
              "\n",
              "  .colab-df-spinner {\n",
              "    border: 2px solid var(--fill-color);\n",
              "    border-color: transparent;\n",
              "    border-bottom-color: var(--fill-color);\n",
              "    animation:\n",
              "      spin 1s steps(1) infinite;\n",
              "  }\n",
              "\n",
              "  @keyframes spin {\n",
              "    0% {\n",
              "      border-color: transparent;\n",
              "      border-bottom-color: var(--fill-color);\n",
              "      border-left-color: var(--fill-color);\n",
              "    }\n",
              "    20% {\n",
              "      border-color: transparent;\n",
              "      border-left-color: var(--fill-color);\n",
              "      border-top-color: var(--fill-color);\n",
              "    }\n",
              "    30% {\n",
              "      border-color: transparent;\n",
              "      border-left-color: var(--fill-color);\n",
              "      border-top-color: var(--fill-color);\n",
              "      border-right-color: var(--fill-color);\n",
              "    }\n",
              "    40% {\n",
              "      border-color: transparent;\n",
              "      border-right-color: var(--fill-color);\n",
              "      border-top-color: var(--fill-color);\n",
              "    }\n",
              "    60% {\n",
              "      border-color: transparent;\n",
              "      border-right-color: var(--fill-color);\n",
              "    }\n",
              "    80% {\n",
              "      border-color: transparent;\n",
              "      border-right-color: var(--fill-color);\n",
              "      border-bottom-color: var(--fill-color);\n",
              "    }\n",
              "    90% {\n",
              "      border-color: transparent;\n",
              "      border-bottom-color: var(--fill-color);\n",
              "    }\n",
              "  }\n",
              "</style>\n",
              "\n",
              "  <script>\n",
              "    async function quickchart(key) {\n",
              "      const quickchartButtonEl =\n",
              "        document.querySelector('#' + key + ' button');\n",
              "      quickchartButtonEl.disabled = true;  // To prevent multiple clicks.\n",
              "      quickchartButtonEl.classList.add('colab-df-spinner');\n",
              "      try {\n",
              "        const charts = await google.colab.kernel.invokeFunction(\n",
              "            'suggestCharts', [key], {});\n",
              "      } catch (error) {\n",
              "        console.error('Error during call to suggestCharts:', error);\n",
              "      }\n",
              "      quickchartButtonEl.classList.remove('colab-df-spinner');\n",
              "      quickchartButtonEl.classList.add('colab-df-quickchart-complete');\n",
              "    }\n",
              "    (() => {\n",
              "      let quickchartButtonEl =\n",
              "        document.querySelector('#df-626f8d3a-5191-4a6b-a576-187327e32303 button');\n",
              "      quickchartButtonEl.style.display =\n",
              "        google.colab.kernel.accessAllowed ? 'block' : 'none';\n",
              "    })();\n",
              "  </script>\n",
              "</div>\n",
              "\n",
              "    </div>\n",
              "  </div>\n"
            ],
            "application/vnd.google.colaboratory.intrinsic+json": {
              "type": "dataframe",
              "summary": "{\n  \"name\": \"food_df\",\n  \"rows\": 8,\n  \"fields\": [\n    {\n      \"column\": \"Calories\",\n      \"properties\": {\n        \"dtype\": \"number\",\n        \"std\": 4606.164552430941,\n        \"min\": 0.0,\n        \"max\": 13260.0,\n        \"num_unique_values\": 8,\n        \"samples\": [\n          133.86108597285067,\n          120.0,\n          13260.0\n        ],\n        \"semantic_type\": \"\",\n        \"description\": \"\"\n      }\n    },\n    {\n      \"column\": \"Total Fat\",\n      \"properties\": {\n        \"dtype\": \"number\",\n        \"std\": 4684.964184568305,\n        \"min\": 0.0,\n        \"max\": 13260.0,\n        \"num_unique_values\": 7,\n        \"samples\": [\n          13260.0,\n          4.47526395173454,\n          7.0\n        ],\n        \"semantic_type\": \"\",\n        \"description\": \"\"\n      }\n    },\n    {\n      \"column\": \"Saturated Fat\",\n      \"properties\": {\n        \"dtype\": \"number\",\n        \"std\": 4686.691326390947,\n        \"min\": 0.0,\n        \"max\": 13260.0,\n        \"num_unique_values\": 7,\n        \"samples\": [\n          13260.0,\n          1.4506168929110106,\n          2.0\n        ],\n        \"semantic_type\": \"\",\n        \"description\": \"\"\n      }\n    },\n    {\n      \"column\": \"Monounsaturated Fat\",\n      \"properties\": {\n        \"dtype\": \"number\",\n        \"std\": 4686.033237684759,\n        \"min\": 0.0,\n        \"max\": 13260.0,\n        \"num_unique_values\": 5,\n        \"samples\": [\n          0.33806938159879335,\n          40.0,\n          1.3458519282554706\n        ],\n        \"semantic_type\": \"\",\n        \"description\": \"\"\n      }\n    },\n    {\n      \"column\": \"Polyunsaturated Fat\",\n      \"properties\": {\n        \"dtype\": \"number\",\n        \"std\": 4676.8436631445575,\n        \"min\": 0.0,\n        \"max\": 13260.0,\n        \"num_unique_values\": 5,\n        \"samples\": [\n          0.25465950226244344,\n          235.0,\n          2.2305859491557\n        ],\n        \"semantic_type\": \"\",\n        \"description\": \"\"\n      }\n    },\n    {\n      \"column\": \"Trans Fat\",\n      \"properties\": {\n        \"dtype\": \"number\",\n        \"std\": 4687.5453091399895,\n        \"min\": 0.0,\n        \"max\": 13260.0,\n        \"num_unique_values\": 5,\n        \"samples\": [\n          0.047458521870286575,\n          11.0,\n          0.3214019594885684\n        ],\n        \"semantic_type\": \"\",\n        \"description\": \"\"\n      }\n    },\n    {\n      \"column\": \"Cholesterol\",\n      \"properties\": {\n        \"dtype\": \"number\",\n        \"std\": 4665.9630123811985,\n        \"min\": 0.0,\n        \"max\": 13260.0,\n        \"num_unique_values\": 6,\n        \"samples\": [\n          13260.0,\n          8.857692307692307,\n          450.0\n        ],\n        \"semantic_type\": \"\",\n        \"description\": \"\"\n      }\n    },\n    {\n      \"column\": \"Sodium\",\n      \"properties\": {\n        \"dtype\": \"number\",\n        \"std\": 4581.886348245647,\n        \"min\": 0.0,\n        \"max\": 13260.0,\n        \"num_unique_values\": 8,\n        \"samples\": [\n          241.86714177978882,\n          135.0,\n          13260.0\n        ],\n        \"semantic_type\": \"\",\n        \"description\": \"\"\n      }\n    },\n    {\n      \"column\": \"Total Carbohydrate\",\n      \"properties\": {\n        \"dtype\": \"number\",\n        \"std\": 4671.206843825255,\n        \"min\": 0.0,\n        \"max\": 13260.0,\n        \"num_unique_values\": 8,\n        \"samples\": [\n          18.23201960784314,\n          17.0,\n          13260.0\n        ],\n        \"semantic_type\": \"\",\n        \"description\": \"\"\n      }\n    },\n    {\n      \"column\": \"Dietary Fiber\",\n      \"properties\": {\n        \"dtype\": \"number\",\n        \"std\": 4673.51909691371,\n        \"min\": 0.0,\n        \"max\": 13260.0,\n        \"num_unique_values\": 7,\n        \"samples\": [\n          13260.0,\n          1.6029713423831071,\n          2.0\n        ],\n        \"semantic_type\": \"\",\n        \"description\": \"\"\n      }\n    },\n    {\n      \"column\": \"Sugars\",\n      \"properties\": {\n        \"dtype\": \"number\",\n        \"std\": 4681.006525723265,\n        \"min\": 0.0,\n        \"max\": 13260.0,\n        \"num_unique_values\": 7,\n        \"samples\": [\n          13260.0,\n          6.645233785822021,\n          11.0\n        ],\n        \"semantic_type\": \"\",\n        \"description\": \"\"\n      }\n    },\n    {\n      \"column\": \"Sugar Alcohol\",\n      \"properties\": {\n        \"dtype\": \"number\",\n        \"std\": 4686.502022991948,\n        \"min\": 0.0,\n        \"max\": 13260.0,\n        \"num_unique_values\": 5,\n        \"samples\": [\n          0.11794871794871795,\n          31.0,\n          1.1215288676243313\n        ],\n        \"semantic_type\": \"\",\n        \"description\": \"\"\n      }\n    },\n    {\n      \"column\": \"Protein\",\n      \"properties\": {\n        \"dtype\": \"number\",\n        \"std\": 4683.5662941784185,\n        \"min\": 0.0,\n        \"max\": 13260.0,\n        \"num_unique_values\": 8,\n        \"samples\": [\n          4.661332579185521,\n          3.0,\n          13260.0\n        ],\n        \"semantic_type\": \"\",\n        \"description\": \"\"\n      }\n    },\n    {\n      \"column\": \"Vitamin A\",\n      \"properties\": {\n        \"dtype\": \"number\",\n        \"std\": 4660.159826648031,\n        \"min\": 0.0,\n        \"max\": 13260.0,\n        \"num_unique_values\": 6,\n        \"samples\": [\n          13260.0,\n          6.28763197586727,\n          622.0\n        ],\n        \"semantic_type\": \"\",\n        \"description\": \"\"\n      }\n    },\n    {\n      \"column\": \"Vitamin C\",\n      \"properties\": {\n        \"dtype\": \"number\",\n        \"std\": 4649.019471679352,\n        \"min\": 0.0,\n        \"max\": 13260.0,\n        \"num_unique_values\": 6,\n        \"samples\": [\n          13260.0,\n          6.7418552036199095,\n          1000.0\n        ],\n        \"semantic_type\": \"\",\n        \"description\": \"\"\n      }\n    },\n    {\n      \"column\": \"Calcium\",\n      \"properties\": {\n        \"dtype\": \"number\",\n        \"std\": 4681.602089261273,\n        \"min\": 0.0,\n        \"max\": 13260.0,\n        \"num_unique_values\": 7,\n        \"samples\": [\n          13260.0,\n          5.17526395173454,\n          6.0\n        ],\n        \"semantic_type\": \"\",\n        \"description\": \"\"\n      }\n    },\n    {\n      \"column\": \"Iron\",\n      \"properties\": {\n        \"dtype\": \"number\",\n        \"std\": 4678.663111566557,\n        \"min\": 0.0,\n        \"max\": 13260.0,\n        \"num_unique_values\": 7,\n        \"samples\": [\n          13260.0,\n          5.2356711915535445,\n          8.0\n        ],\n        \"semantic_type\": \"\",\n        \"description\": \"\"\n      }\n    }\n  ]\n}"
            }
          },
          "metadata": {},
          "execution_count": 78
        }
      ],
      "source": [
        "food_df.iloc[:, :-1].describe()"
      ],
      "execution_count": 78
    },
    {
      "cell_type": "markdown",
      "metadata": {
        "id": "33e9ec1a-b75a-4f72-9bb7-4a7cb244b87a"
      },
      "source": [
        "As we can see from the above output, this dataset contains 17 nutrient categories about each food item. These categories include Calories, Total Fat, Protein, Sugar, etc., and are listed as numeric variables. As such, we only need to scale them for training our logistic regression model so that we can compare our feature coefficients directly. This will be done under the feature engineering section.\n"
      ]
    },
    {
      "cell_type": "markdown",
      "metadata": {
        "id": "a0785d83-6ff3-4f2b-a3d9-c6eb5543990b"
      },
      "source": [
        "Next, let's check the target variable in the `class` column to see the label values and their distribution.\n"
      ]
    },
    {
      "cell_type": "code",
      "metadata": {
        "colab": {
          "base_uri": "https://localhost:8080/"
        },
        "id": "dd1b89da-0d4f-4e7e-b4e2-e46624807cd6",
        "outputId": "3b5958da-3142-43ea-b64c-5f511e3ad003"
      },
      "outputs": [
        {
          "output_type": "execute_result",
          "data": {
            "text/plain": [
              "class          \n",
              "'In Moderation'    0.501433\n",
              "'Less Often'       0.423906\n",
              "'More Often'       0.074661\n",
              "dtype: float64"
            ]
          },
          "metadata": {},
          "execution_count": 79
        }
      ],
      "source": [
        "# # Get the row entries with the last col 'class'\n",
        "food_df.iloc[:, -1:].value_counts(normalize=True)"
      ],
      "execution_count": 79
    },
    {
      "cell_type": "code",
      "metadata": {
        "colab": {
          "base_uri": "https://localhost:8080/",
          "height": 571
        },
        "id": "13e4d4fd-9817-43d2-a140-7966a66052aa",
        "outputId": "00b0df6c-6d7c-47c3-99a2-a51873694f68"
      },
      "outputs": [
        {
          "output_type": "execute_result",
          "data": {
            "text/plain": [
              "<Axes: xlabel='class'>"
            ]
          },
          "metadata": {},
          "execution_count": 80
        },
        {
          "output_type": "display_data",
          "data": {
            "text/plain": [
              "<Figure size 640x480 with 1 Axes>"
            ],
            "image/png": "[encoded data removed]"
          },
          "metadata": {}
        }
      ],
      "source": [
        "food_df.iloc[:, -1:].value_counts().plot.bar(color=['yellow', 'red', 'green'])"
      ],
      "execution_count": 80
    },
    {
      "cell_type": "markdown",
      "metadata": {
        "id": "33451c19-ac01-4459-acb4-f733e7f6cad6"
      },
      "source": [
        "As we can see from the bar chart above, this dataset has three classes: `In Moderation`, `Less Often`, and `More Often`. The three labels are imbalanced. For diabetic patients, most food items are in the In Moderation and Less Often categories. This makes diabetes diet management very hard, so we could build a machine learning model to help patients choose their food.\n"
      ]
    },
    {
      "cell_type": "markdown",
      "metadata": {
        "id": "c9f5194e-d0eb-487f-9c64-6110d5dab9d7"
      },
      "source": [
        "We have three labels meaning our logistic regression model will be multinomial with three classes.\n",
        "\n",
        "A multinomial logistic regression is a generalized logistic regression model which generates a probability distribution over all classes, based on the logits or exponentiated log-odds calculated for each class (usually more than two).\n"
      ]
    },
    {
      "cell_type": "markdown",
      "metadata": {
        "id": "1160a184-a1d4-4722-82c7-c5ad81a1c1f5"
      },
      "source": [
        "Also note that a multinomial logistic regression model is different from the `one-vs-rest` binary logistic regression. For `one-vs-rest` schema, you need to train an independent classifier for each class. For example, you need a `More Often` classifier to differentiate a food item between `More Often` and `Not More Often` (or, `In Moderation` and `Less Often`).\n"
      ]
    },
    {
      "cell_type": "markdown",
      "metadata": {
        "id": "2e48158d-228a-4088-a95a-e649cfcaec74"
      },
      "source": [
        "### Feature Engineering\n"
      ]
    },
    {
      "cell_type": "markdown",
      "metadata": {
        "id": "844c25d3-a560-4467-b848-79c01f2a9c70"
      },
      "source": [
        "Now you should have some basic understanding about the food dataset. Next, let's process the raw dataset and construct input data `X` and label/output `y` for logistic regression model training.\n"
      ]
    },
    {
      "cell_type": "code",
      "metadata": {
        "id": "062e3232-9180-4d17-99b0-323a47547b6e"
      },
      "outputs": [],
      "source": [
        "X_raw = food_df.iloc[:, :-1]\n",
        "y_raw = food_df.iloc[:, -1:]"
      ],
      "execution_count": 81
    },
    {
      "cell_type": "markdown",
      "metadata": {
        "id": "6bffebed-e86e-4e61-9533-5e1b9384debd"
      },
      "source": [
        "Fortunately, all feature columns are numeric so we just need to scale them. Here we use the `MinMaxScaler` provided by `sklearn` for scaling.\n"
      ]
    },
    {
      "cell_type": "code",
      "metadata": {
        "id": "fc84c8f4-f6dd-4e4d-88e7-938fbd953936"
      },
      "outputs": [],
      "source": [
        "# Create a MinMaxScaler object\n",
        "scaler = MinMaxScaler()"
      ],
      "execution_count": 82
    },
    {
      "cell_type": "code",
      "metadata": {
        "id": "c952999c-2059-4440-b6ae-7379180e813f"
      },
      "outputs": [],
      "source": [
        "# Scaling the raw input features\n",
        "X = scaler.fit_transform(X_raw)"
      ],
      "execution_count": 83
    },
    {
      "cell_type": "markdown",
      "metadata": {
        "id": "4bbd7336-5f1e-405f-bc28-15d994cf648d"
      },
      "source": [
        "Let's check the scaled feature value range:\n"
      ]
    },
    {
      "cell_type": "code",
      "metadata": {
        "colab": {
          "base_uri": "https://localhost:8080/"
        },
        "id": "e849462b-6486-4ce2-983f-d516ce38ad83",
        "outputId": "ca18afcf-f52e-415d-af6b-e42949217315"
      },
      "outputs": [
        {
          "output_type": "stream",
          "name": "stdout",
          "text": [
            "The range of feature inputs are within 0.0 to 1.0\n"
          ]
        }
      ],
      "source": [
        "print(f\"The range of feature inputs are within {X.min()} to {X.max()}\")"
      ],
      "execution_count": 84
    },
    {
      "cell_type": "markdown",
      "metadata": {
        "id": "e95cb718-97f4-4aa9-9589-f4b722d67872"
      },
      "source": [
        "For the target variable `y`, let's use the `LabelEncoder` provided by `sklearn` to encode its three class values.\n"
      ]
    },
    {
      "cell_type": "code",
      "metadata": {
        "id": "c9b62021-524d-4d81-bb16-9e5036cbe5c8"
      },
      "outputs": [],
      "source": [
        "# Create a LabelEncoder object\n",
        "label_encoder = LabelEncoder()"
      ],
      "execution_count": 85
    },
    {
      "cell_type": "code",
      "metadata": {
        "id": "c166dd35-5b6f-4115-a807-ff6d04f3fce1"
      },
      "outputs": [],
      "source": [
        "# Encode the target variable\n",
        "y = label_encoder.fit_transform(y_raw.values.ravel())\n",
        "# Note that ravel() function flattens the vector."
      ],
      "execution_count": 86
    },
    {
      "cell_type": "markdown",
      "metadata": {
        "id": "1b8e14df-fb88-4560-8046-e62a63c133a9"
      },
      "source": [
        "The encoded target variable will only contain values `0=In Moderation`, `1=Less Often`, `2=More Often`.\n"
      ]
    },
    {
      "cell_type": "code",
      "metadata": {
        "colab": {
          "base_uri": "https://localhost:8080/"
        },
        "id": "dcd296a4-75fe-41e7-815a-03efd9b414ea",
        "outputId": "27d8f140-10ef-4d20-9539-03ed37901b0a"
      },
      "outputs": [
        {
          "output_type": "execute_result",
          "data": {
            "text/plain": [
              "(array([0, 1, 2]), array([6649, 5621,  990]))"
            ]
          },
          "metadata": {},
          "execution_count": 87
        }
      ],
      "source": [
        "np.unique(y, return_counts=True)"
      ],
      "execution_count": 87
    },
    {
      "cell_type": "markdown",
      "metadata": {
        "id": "956947aa-a138-439a-a7f0-723517eae62e"
      },
      "source": [
        "## Train logistic regression models\n"
      ]
    },
    {
      "cell_type": "markdown",
      "metadata": {
        "id": "4d996c57-f404-4be6-8bfa-a97f0736d046"
      },
      "source": [
        "First, let's split the dataset into a training and a testing dataset. Training dataset will be used to train and (maybe) tune models, and testing dataset will be used to evaluate the models. Note that you may also split the training dataset into train and validation sets where the validation dataset is only used to tune the model and to set the model parameters.\n"
      ]
    },
    {
      "cell_type": "code",
      "metadata": {
        "id": "7ced04d1-ff07-493f-b425-00f6fa283847"
      },
      "outputs": [],
      "source": [
        "# First, let's split the training and testing dataset\n",
        "X_train, X_test, y_train, y_test = train_test_split(X, y, test_size=0.2, stratify=y, random_state = rs)"
      ],
      "execution_count": 88
    },
    {
      "cell_type": "markdown",
      "metadata": {
        "id": "c45d635b-1615-4ca9-9f08-a36d5a692594"
      },
      "source": [
        "Let's look at the shapes of the split datasets:\n"
      ]
    },
    {
      "cell_type": "code",
      "metadata": {
        "colab": {
          "base_uri": "https://localhost:8080/"
        },
        "id": "17125def-1cf2-423e-8a43-87da62a0aa58",
        "outputId": "2cd67fff-1008-41b1-9fbd-fc54589e82a4"
      },
      "outputs": [
        {
          "output_type": "stream",
          "name": "stdout",
          "text": [
            "Training dataset shape, X_train: (10608, 17), y_train: (10608,)\n"
          ]
        }
      ],
      "source": [
        "print(f\"Training dataset shape, X_train: {X_train.shape}, y_train: {y_train.shape}\")"
      ],
      "execution_count": 89
    },
    {
      "cell_type": "code",
      "metadata": {
        "colab": {
          "base_uri": "https://localhost:8080/"
        },
        "id": "c46be02f-6d14-48c7-a632-699468a22d02",
        "outputId": "b23820c5-e37b-4c36-9620-1ee9a510d0e2"
      },
      "outputs": [
        {
          "output_type": "stream",
          "name": "stdout",
          "text": [
            "Testing dataset shape, X_test: (2652, 17), y_test: (2652,)\n"
          ]
        }
      ],
      "source": [
        "print(f\"Testing dataset shape, X_test: {X_test.shape}, y_test: {y_test.shape}\")"
      ],
      "execution_count": 90
    },
    {
      "cell_type": "markdown",
      "metadata": {
        "id": "ddec660e-3917-48c6-a48b-c06422f1f4bf"
      },
      "source": [
        "OK, now we have the training and testing datasets ready, let's start the model training task.\n"
      ]
    },
    {
      "cell_type": "markdown",
      "metadata": {
        "id": "8a64c18b-ec34-4315-9294-7e652df00a40"
      },
      "source": [
        "We first define a `sklearn.linear_model.LogisticRegression` model with the following arguments, you can check the comment for each argument for what it means.\n"
      ]
    },
    {
      "cell_type": "code",
      "metadata": {
        "id": "b18e283a-f43a-4e4c-813d-32828cbca358"
      },
      "outputs": [],
      "source": [
        "# L2 penalty to shrink coefficients without removing any features from the model\n",
        "penalty= 'l2'\n",
        "# Our classification problem is multinomial\n",
        "multi_class = 'multinomial'\n",
        "# Use lbfgs for L2 penalty and multinomial classes\n",
        "solver = 'lbfgs'\n",
        "# Max iteration = 1000\n",
        "max_iter = 1000"
      ],
      "execution_count": 91
    },
    {
      "cell_type": "code",
      "metadata": {
        "id": "064a29f6-28fc-401e-9c02-e492cd989c1f"
      },
      "outputs": [],
      "source": [
        "# Define a logistic regression model with above arguments\n",
        "l2_model = LogisticRegression(random_state=rs, penalty=penalty, multi_class=multi_class, solver=solver, max_iter=max_iter)"
      ],
      "execution_count": 92
    },
    {
      "cell_type": "markdown",
      "metadata": {
        "id": "1505c1f2-6235-4499-a04c-20d3e8b9d9b5"
      },
      "source": [
        "Let's train the model with training input data `X_train` and labels `y_train`:\n"
      ]
    },
    {
      "cell_type": "code",
      "metadata": {
        "colab": {
          "base_uri": "https://localhost:8080/",
          "height": 80
        },
        "id": "72422ed9-f3f2-4736-a6ad-0e0bdc010821",
        "outputId": "1d49d307-907d-445c-e17d-5150f078d156"
      },
      "outputs": [
        {
          "output_type": "execute_result",
          "data": {
            "text/plain": [
              "LogisticRegression(max_iter=1000, multi_class='multinomial', random_state=123)"
            ],
            "text/html": [
              "<style>#sk-container-id-4 {\n",
              "  /* Definition of color scheme common for light and dark mode */\n",
              "  --sklearn-color-text: black;\n",
              "  --sklearn-color-line: gray;\n",
              "  /* Definition of color scheme for unfitted estimators */\n",
              "  --sklearn-color-unfitted-level-0: #fff5e6;\n",
              "  --sklearn-color-unfitted-level-1: #f6e4d2;\n",
              "  --sklearn-color-unfitted-level-2: #ffe0b3;\n",
              "  --sklearn-color-unfitted-level-3: chocolate;\n",
              "  /* Definition of color scheme for fitted estimators */\n",
              "  --sklearn-color-fitted-level-0: #f0f8ff;\n",
              "  --sklearn-color-fitted-level-1: #d4ebff;\n",
              "  --sklearn-color-fitted-level-2: #b3dbfd;\n",
              "  --sklearn-color-fitted-level-3: cornflowerblue;\n",
              "\n",
              "  /* Specific color for light theme */\n",
              "  --sklearn-color-text-on-default-background: var(--sg-text-color, var(--theme-code-foreground, var(--jp-content-font-color1, black)));\n",
              "  --sklearn-color-background: var(--sg-background-color, var(--theme-background, var(--jp-layout-color0, white)));\n",
              "  --sklearn-color-border-box: var(--sg-text-color, var(--theme-code-foreground, var(--jp-content-font-color1, black)));\n",
              "  --sklearn-color-icon: #696969;\n",
              "\n",
              "  @media (prefers-color-scheme: dark) {\n",
              "    /* Redefinition of color scheme for dark theme */\n",
              "    --sklearn-color-text-on-default-background: var(--sg-text-color, var(--theme-code-foreground, var(--jp-content-font-color1, white)));\n",
              "    --sklearn-color-background: var(--sg-background-color, var(--theme-background, var(--jp-layout-color0, #111)));\n",
              "    --sklearn-color-border-box: var(--sg-text-color, var(--theme-code-foreground, var(--jp-content-font-color1, white)));\n",
              "    --sklearn-color-icon: #878787;\n",
              "  }\n",
              "}\n",
              "\n",
              "#sk-container-id-4 {\n",
              "  color: var(--sklearn-color-text);\n",
              "}\n",
              "\n",
              "#sk-container-id-4 pre {\n",
              "  padding: 0;\n",
              "}\n",
              "\n",
              "#sk-container-id-4 input.sk-hidden--visually {\n",
              "  border: 0;\n",
              "  clip: rect(1px 1px 1px 1px);\n",
              "  clip: rect(1px, 1px, 1px, 1px);\n",
              "  height: 1px;\n",
              "  margin: -1px;\n",
              "  overflow: hidden;\n",
              "  padding: 0;\n",
              "  position: absolute;\n",
              "  width: 1px;\n",
              "}\n",
              "\n",
              "#sk-container-id-4 div.sk-dashed-wrapped {\n",
              "  border: 1px dashed var(--sklearn-color-line);\n",
              "  margin: 0 0.4em 0.5em 0.4em;\n",
              "  box-sizing: border-box;\n",
              "  padding-bottom: 0.4em;\n",
              "  background-color: var(--sklearn-color-background);\n",
              "}\n",
              "\n",
              "#sk-container-id-4 div.sk-container {\n",
              "  /* jupyter's `normalize.less` sets `[hidden] { display: none; }`\n",
              "     but bootstrap.min.css set `[hidden] { display: none !important; }`\n",
              "     so we also need the `!important` here to be able to override the\n",
              "     default hidden behavior on the sphinx rendered scikit-learn.org.\n",
              "     See: https://github.com/scikit-learn/scikit-learn/issues/21755 */\n",
              "  display: inline-block !important;\n",
              "  position: relative;\n",
              "}\n",
              "\n",
              "#sk-container-id-4 div.sk-text-repr-fallback {\n",
              "  display: none;\n",
              "}\n",
              "\n",
              "div.sk-parallel-item,\n",
              "div.sk-serial,\n",
              "div.sk-item {\n",
              "  /* draw centered vertical line to link estimators */\n",
              "  background-image: linear-gradient(var(--sklearn-color-text-on-default-background), var(--sklearn-color-text-on-default-background));\n",
              "  background-size: 2px 100%;\n",
              "  background-repeat: no-repeat;\n",
              "  background-position: center center;\n",
              "}\n",
              "\n",
              "/* Parallel-specific style estimator block */\n",
              "\n",
              "#sk-container-id-4 div.sk-parallel-item::after {\n",
              "  content: \"\";\n",
              "  width: 100%;\n",
              "  border-bottom: 2px solid var(--sklearn-color-text-on-default-background);\n",
              "  flex-grow: 1;\n",
              "}\n",
              "\n",
              "#sk-container-id-4 div.sk-parallel {\n",
              "  display: flex;\n",
              "  align-items: stretch;\n",
              "  justify-content: center;\n",
              "  background-color: var(--sklearn-color-background);\n",
              "  position: relative;\n",
              "}\n",
              "\n",
              "#sk-container-id-4 div.sk-parallel-item {\n",
              "  display: flex;\n",
              "  flex-direction: column;\n",
              "}\n",
              "\n",
              "#sk-container-id-4 div.sk-parallel-item:first-child::after {\n",
              "  align-self: flex-end;\n",
              "  width: 50%;\n",
              "}\n",
              "\n",
              "#sk-container-id-4 div.sk-parallel-item:last-child::after {\n",
              "  align-self: flex-start;\n",
              "  width: 50%;\n",
              "}\n",
              "\n",
              "#sk-container-id-4 div.sk-parallel-item:only-child::after {\n",
              "  width: 0;\n",
              "}\n",
              "\n",
              "/* Serial-specific style estimator block */\n",
              "\n",
              "#sk-container-id-4 div.sk-serial {\n",
              "  display: flex;\n",
              "  flex-direction: column;\n",
              "  align-items: center;\n",
              "  background-color: var(--sklearn-color-background);\n",
              "  padding-right: 1em;\n",
              "  padding-left: 1em;\n",
              "}\n",
              "\n",
              "\n",
              "/* Toggleable style: style used for estimator/Pipeline/ColumnTransformer box that is\n",
              "clickable and can be expanded/collapsed.\n",
              "- Pipeline and ColumnTransformer use this feature and define the default style\n",
              "- Estimators will overwrite some part of the style using the `sk-estimator` class\n",
              "*/\n",
              "\n",
              "/* Pipeline and ColumnTransformer style (default) */\n",
              "\n",
              "#sk-container-id-4 div.sk-toggleable {\n",
              "  /* Default theme specific background. It is overwritten whether we have a\n",
              "  specific estimator or a Pipeline/ColumnTransformer */\n",
              "  background-color: var(--sklearn-color-background);\n",
              "}\n",
              "\n",
              "/* Toggleable label */\n",
              "#sk-container-id-4 label.sk-toggleable__label {\n",
              "  cursor: pointer;\n",
              "  display: block;\n",
              "  width: 100%;\n",
              "  margin-bottom: 0;\n",
              "  padding: 0.5em;\n",
              "  box-sizing: border-box;\n",
              "  text-align: center;\n",
              "}\n",
              "\n",
              "#sk-container-id-4 label.sk-toggleable__label-arrow:before {\n",
              "  /* Arrow on the left of the label */\n",
              "  content: \"▸\";\n",
              "  float: left;\n",
              "  margin-right: 0.25em;\n",
              "  color: var(--sklearn-color-icon);\n",
              "}\n",
              "\n",
              "#sk-container-id-4 label.sk-toggleable__label-arrow:hover:before {\n",
              "  color: var(--sklearn-color-text);\n",
              "}\n",
              "\n",
              "/* Toggleable content - dropdown */\n",
              "\n",
              "#sk-container-id-4 div.sk-toggleable__content {\n",
              "  max-height: 0;\n",
              "  max-width: 0;\n",
              "  overflow: hidden;\n",
              "  text-align: left;\n",
              "  /* unfitted */\n",
              "  background-color: var(--sklearn-color-unfitted-level-0);\n",
              "}\n",
              "\n",
              "#sk-container-id-4 div.sk-toggleable__content.fitted {\n",
              "  /* fitted */\n",
              "  background-color: var(--sklearn-color-fitted-level-0);\n",
              "}\n",
              "\n",
              "#sk-container-id-4 div.sk-toggleable__content pre {\n",
              "  margin: 0.2em;\n",
              "  border-radius: 0.25em;\n",
              "  color: var(--sklearn-color-text);\n",
              "  /* unfitted */\n",
              "  background-color: var(--sklearn-color-unfitted-level-0);\n",
              "}\n",
              "\n",
              "#sk-container-id-4 div.sk-toggleable__content.fitted pre {\n",
              "  /* unfitted */\n",
              "  background-color: var(--sklearn-color-fitted-level-0);\n",
              "}\n",
              "\n",
              "#sk-container-id-4 input.sk-toggleable__control:checked~div.sk-toggleable__content {\n",
              "  /* Expand drop-down */\n",
              "  max-height: 200px;\n",
              "  max-width: 100%;\n",
              "  overflow: auto;\n",
              "}\n",
              "\n",
              "#sk-container-id-4 input.sk-toggleable__control:checked~label.sk-toggleable__label-arrow:before {\n",
              "  content: \"▾\";\n",
              "}\n",
              "\n",
              "/* Pipeline/ColumnTransformer-specific style */\n",
              "\n",
              "#sk-container-id-4 div.sk-label input.sk-toggleable__control:checked~label.sk-toggleable__label {\n",
              "  color: var(--sklearn-color-text);\n",
              "  background-color: var(--sklearn-color-unfitted-level-2);\n",
              "}\n",
              "\n",
              "#sk-container-id-4 div.sk-label.fitted input.sk-toggleable__control:checked~label.sk-toggleable__label {\n",
              "  background-color: var(--sklearn-color-fitted-level-2);\n",
              "}\n",
              "\n",
              "/* Estimator-specific style */\n",
              "\n",
              "/* Colorize estimator box */\n",
              "#sk-container-id-4 div.sk-estimator input.sk-toggleable__control:checked~label.sk-toggleable__label {\n",
              "  /* unfitted */\n",
              "  background-color: var(--sklearn-color-unfitted-level-2);\n",
              "}\n",
              "\n",
              "#sk-container-id-4 div.sk-estimator.fitted input.sk-toggleable__control:checked~label.sk-toggleable__label {\n",
              "  /* fitted */\n",
              "  background-color: var(--sklearn-color-fitted-level-2);\n",
              "}\n",
              "\n",
              "#sk-container-id-4 div.sk-label label.sk-toggleable__label,\n",
              "#sk-container-id-4 div.sk-label label {\n",
              "  /* The background is the default theme color */\n",
              "  color: var(--sklearn-color-text-on-default-background);\n",
              "}\n",
              "\n",
              "/* On hover, darken the color of the background */\n",
              "#sk-container-id-4 div.sk-label:hover label.sk-toggleable__label {\n",
              "  color: var(--sklearn-color-text);\n",
              "  background-color: var(--sklearn-color-unfitted-level-2);\n",
              "}\n",
              "\n",
              "/* Label box, darken color on hover, fitted */\n",
              "#sk-container-id-4 div.sk-label.fitted:hover label.sk-toggleable__label.fitted {\n",
              "  color: var(--sklearn-color-text);\n",
              "  background-color: var(--sklearn-color-fitted-level-2);\n",
              "}\n",
              "\n",
              "/* Estimator label */\n",
              "\n",
              "#sk-container-id-4 div.sk-label label {\n",
              "  font-family: monospace;\n",
              "  font-weight: bold;\n",
              "  display: inline-block;\n",
              "  line-height: 1.2em;\n",
              "}\n",
              "\n",
              "#sk-container-id-4 div.sk-label-container {\n",
              "  text-align: center;\n",
              "}\n",
              "\n",
              "/* Estimator-specific */\n",
              "#sk-container-id-4 div.sk-estimator {\n",
              "  font-family: monospace;\n",
              "  border: 1px dotted var(--sklearn-color-border-box);\n",
              "  border-radius: 0.25em;\n",
              "  box-sizing: border-box;\n",
              "  margin-bottom: 0.5em;\n",
              "  /* unfitted */\n",
              "  background-color: var(--sklearn-color-unfitted-level-0);\n",
              "}\n",
              "\n",
              "#sk-container-id-4 div.sk-estimator.fitted {\n",
              "  /* fitted */\n",
              "  background-color: var(--sklearn-color-fitted-level-0);\n",
              "}\n",
              "\n",
              "/* on hover */\n",
              "#sk-container-id-4 div.sk-estimator:hover {\n",
              "  /* unfitted */\n",
              "  background-color: var(--sklearn-color-unfitted-level-2);\n",
              "}\n",
              "\n",
              "#sk-container-id-4 div.sk-estimator.fitted:hover {\n",
              "  /* fitted */\n",
              "  background-color: var(--sklearn-color-fitted-level-2);\n",
              "}\n",
              "\n",
              "/* Specification for estimator info (e.g. \"i\" and \"?\") */\n",
              "\n",
              "/* Common style for \"i\" and \"?\" */\n",
              "\n",
              ".sk-estimator-doc-link,\n",
              "a:link.sk-estimator-doc-link,\n",
              "a:visited.sk-estimator-doc-link {\n",
              "  float: right;\n",
              "  font-size: smaller;\n",
              "  line-height: 1em;\n",
              "  font-family: monospace;\n",
              "  background-color: var(--sklearn-color-background);\n",
              "  border-radius: 1em;\n",
              "  height: 1em;\n",
              "  width: 1em;\n",
              "  text-decoration: none !important;\n",
              "  margin-left: 1ex;\n",
              "  /* unfitted */\n",
              "  border: var(--sklearn-color-unfitted-level-1) 1pt solid;\n",
              "  color: var(--sklearn-color-unfitted-level-1);\n",
              "}\n",
              "\n",
              ".sk-estimator-doc-link.fitted,\n",
              "a:link.sk-estimator-doc-link.fitted,\n",
              "a:visited.sk-estimator-doc-link.fitted {\n",
              "  /* fitted */\n",
              "  border: var(--sklearn-color-fitted-level-1) 1pt solid;\n",
              "  color: var(--sklearn-color-fitted-level-1);\n",
              "}\n",
              "\n",
              "/* On hover */\n",
              "div.sk-estimator:hover .sk-estimator-doc-link:hover,\n",
              ".sk-estimator-doc-link:hover,\n",
              "div.sk-label-container:hover .sk-estimator-doc-link:hover,\n",
              ".sk-estimator-doc-link:hover {\n",
              "  /* unfitted */\n",
              "  background-color: var(--sklearn-color-unfitted-level-3);\n",
              "  color: var(--sklearn-color-background);\n",
              "  text-decoration: none;\n",
              "}\n",
              "\n",
              "div.sk-estimator.fitted:hover .sk-estimator-doc-link.fitted:hover,\n",
              ".sk-estimator-doc-link.fitted:hover,\n",
              "div.sk-label-container:hover .sk-estimator-doc-link.fitted:hover,\n",
              ".sk-estimator-doc-link.fitted:hover {\n",
              "  /* fitted */\n",
              "  background-color: var(--sklearn-color-fitted-level-3);\n",
              "  color: var(--sklearn-color-background);\n",
              "  text-decoration: none;\n",
              "}\n",
              "\n",
              "/* Span, style for the box shown on hovering the info icon */\n",
              ".sk-estimator-doc-link span {\n",
              "  display: none;\n",
              "  z-index: 9999;\n",
              "  position: relative;\n",
              "  font-weight: normal;\n",
              "  right: .2ex;\n",
              "  padding: .5ex;\n",
              "  margin: .5ex;\n",
              "  width: min-content;\n",
              "  min-width: 20ex;\n",
              "  max-width: 50ex;\n",
              "  color: var(--sklearn-color-text);\n",
              "  box-shadow: 2pt 2pt 4pt #999;\n",
              "  /* unfitted */\n",
              "  background: var(--sklearn-color-unfitted-level-0);\n",
              "  border: .5pt solid var(--sklearn-color-unfitted-level-3);\n",
              "}\n",
              "\n",
              ".sk-estimator-doc-link.fitted span {\n",
              "  /* fitted */\n",
              "  background: var(--sklearn-color-fitted-level-0);\n",
              "  border: var(--sklearn-color-fitted-level-3);\n",
              "}\n",
              "\n",
              ".sk-estimator-doc-link:hover span {\n",
              "  display: block;\n",
              "}\n",
              "\n",
              "/* \"?\"-specific style due to the `<a>` HTML tag */\n",
              "\n",
              "#sk-container-id-4 a.estimator_doc_link {\n",
              "  float: right;\n",
              "  font-size: 1rem;\n",
              "  line-height: 1em;\n",
              "  font-family: monospace;\n",
              "  background-color: var(--sklearn-color-background);\n",
              "  border-radius: 1rem;\n",
              "  height: 1rem;\n",
              "  width: 1rem;\n",
              "  text-decoration: none;\n",
              "  /* unfitted */\n",
              "  color: var(--sklearn-color-unfitted-level-1);\n",
              "  border: var(--sklearn-color-unfitted-level-1) 1pt solid;\n",
              "}\n",
              "\n",
              "#sk-container-id-4 a.estimator_doc_link.fitted {\n",
              "  /* fitted */\n",
              "  border: var(--sklearn-color-fitted-level-1) 1pt solid;\n",
              "  color: var(--sklearn-color-fitted-level-1);\n",
              "}\n",
              "\n",
              "/* On hover */\n",
              "#sk-container-id-4 a.estimator_doc_link:hover {\n",
              "  /* unfitted */\n",
              "  background-color: var(--sklearn-color-unfitted-level-3);\n",
              "  color: var(--sklearn-color-background);\n",
              "  text-decoration: none;\n",
              "}\n",
              "\n",
              "#sk-container-id-4 a.estimator_doc_link.fitted:hover {\n",
              "  /* fitted */\n",
              "  background-color: var(--sklearn-color-fitted-level-3);\n",
              "}\n",
              "</style><div id=\"sk-container-id-4\" class=\"sk-top-container\"><div class=\"sk-text-repr-fallback\"><pre>LogisticRegression(max_iter=1000, multi_class=&#x27;multinomial&#x27;, random_state=123)</pre><b>In a Jupyter environment, please rerun this cell to show the HTML representation or trust the notebook. <br />On GitHub, the HTML representation is unable to render, please try loading this page with nbviewer.org.</b></div><div class=\"sk-container\" hidden><div class=\"sk-item\"><div class=\"sk-estimator fitted sk-toggleable\"><input class=\"sk-toggleable__control sk-hidden--visually\" id=\"sk-estimator-id-4\" type=\"checkbox\" checked><label for=\"sk-estimator-id-4\" class=\"sk-toggleable__label fitted sk-toggleable__label-arrow fitted\">&nbsp;&nbsp;LogisticRegression<a class=\"sk-estimator-doc-link fitted\" rel=\"noreferrer\" target=\"_blank\" href=\"https://scikit-learn.org/1.4/modules/generated/sklearn.linear_model.LogisticRegression.html\">?<span>Documentation for LogisticRegression</span></a><span class=\"sk-estimator-doc-link fitted\">i<span>Fitted</span></span></label><div class=\"sk-toggleable__content fitted\"><pre>LogisticRegression(max_iter=1000, multi_class=&#x27;multinomial&#x27;, random_state=123)</pre></div> </div></div></div></div>"
            ]
          },
          "metadata": {},
          "execution_count": 93
        }
      ],
      "source": [
        "l2_model.fit(X_train, y_train)"
      ],
      "execution_count": 93
    },
    {
      "cell_type": "code",
      "metadata": {
        "id": "197a0dac-7835-46be-8e12-8f6242c61679"
      },
      "outputs": [],
      "source": [
        "l2_preds = l2_model.predict(X_test)"
      ],
      "execution_count": 94
    },
    {
      "cell_type": "markdown",
      "metadata": {
        "id": "3285be00-384c-413f-992d-fade1b036acd"
      },
      "source": [
        "Because we may need to evaluate the model multiple times with different model hyper parameters, here we define an utility method to take the ground truths `y_test` and the predictions `preds`, and return a Python `dict` with `accuracy`, `recall`, `precision`, and `f1score`.\n"
      ]
    },
    {
      "cell_type": "code",
      "metadata": {
        "id": "b2d85844-78c2-4fe5-a31a-1251fa2b24f6"
      },
      "outputs": [],
      "source": [
        "def evaluate_metrics(yt, yp):\n",
        "    results_pos = {}\n",
        "    results_pos['accuracy'] = accuracy_score(yt, yp)\n",
        "    precision, recall, f_beta, _ = precision_recall_fscore_support(yt, yp)\n",
        "    results_pos['recall'] = recall\n",
        "    results_pos['precision'] = precision\n",
        "    results_pos['f1score'] = f_beta\n",
        "    return results_pos"
      ],
      "execution_count": 95
    },
    {
      "cell_type": "code",
      "metadata": {
        "colab": {
          "base_uri": "https://localhost:8080/"
        },
        "id": "1f937ec5-5457-458c-b7b8-c74d6f4fa77a",
        "outputId": "a11c080f-c159-49a7-9f4c-da55ce157100"
      },
      "outputs": [
        {
          "output_type": "execute_result",
          "data": {
            "text/plain": [
              "{'accuracy': 0.7748868778280543,\n",
              " 'recall': array([0.87368421, 0.73220641, 0.35353535]),\n",
              " 'precision': array([0.73035827, 0.83553299, 0.92105263]),\n",
              " 'f1score': array([0.79561794, 0.78046468, 0.51094891])}"
            ]
          },
          "metadata": {},
          "execution_count": 96
        }
      ],
      "source": [
        "evaluate_metrics(y_test, l2_preds)"
      ],
      "execution_count": 96
    },
    {
      "cell_type": "markdown",
      "metadata": {
        "id": "814dedca-d642-4dbd-98a4-175bb1cc7c37"
      },
      "source": [
        "As we can see from  the above evaluation results, the logistic regression model has relatively good performance on this multinomial classification task. The overall accuracy is around `0.77` and the f1score is around `0.8`. Note that for `recall`, `precision`, and `f1score`, we output the values for each class to see how the model performs on an individual class. And, we can see from the results, the recall for `class=2` (More often) is not very good. This is actually a common problem called imbalanced classification challenge. We will introduce solution to this problem later in this course.\n"
      ]
    },
    {
      "cell_type": "markdown",
      "metadata": {
        "id": "e93e529a-7937-4e4b-903d-26f1fd9d8d2e"
      },
      "source": [
        "Next, let's try defining another logistic regression model with l1 penality this time, to see if our classification performance would be improved.\n"
      ]
    },
    {
      "cell_type": "code",
      "metadata": {
        "id": "2549a767-05a7-4bb7-bfba-f23095d91e87"
      },
      "outputs": [],
      "source": [
        "# L1 penalty to shrink coefficients without removing any features from the model\n",
        "penalty= 'l1'\n",
        "# Our classification problem is multinomial\n",
        "multi_class = 'multinomial'\n",
        "# Use saga for L1 penalty and multinomial classes\n",
        "solver = 'saga'\n",
        "# Max iteration = 1000\n",
        "max_iter = 1000"
      ],
      "execution_count": 97
    },
    {
      "cell_type": "markdown",
      "metadata": {
        "id": "079724ef-8f25-47cc-b232-2685033716a5"
      },
      "source": [
        "Then we define another logistic regression model with above arguments using l1 penality and related solver.\n"
      ]
    },
    {
      "cell_type": "code",
      "metadata": {
        "id": "00750e56-c1ef-4603-8af1-d3916ae9f5f9"
      },
      "outputs": [],
      "source": [
        "# Define a logistic regression model with above arguments\n",
        "l1_model = LogisticRegression(random_state=rs, penalty=penalty, multi_class=multi_class, solver=solver, max_iter = 1000)"
      ],
      "execution_count": 98
    },
    {
      "cell_type": "markdown",
      "metadata": {
        "id": "24ce1e97-4732-4027-909a-c1f29d68ddf6"
      },
      "source": [
        "We can start to train the new `l1_model` with the new taining dataset.\n"
      ]
    },
    {
      "cell_type": "code",
      "metadata": {
        "colab": {
          "base_uri": "https://localhost:8080/",
          "height": 97
        },
        "id": "4e435349-f101-4227-a0f1-7ea3a46c6bf1",
        "outputId": "6df46d29-949a-4ee2-93a8-28d96898f07c"
      },
      "outputs": [
        {
          "output_type": "execute_result",
          "data": {
            "text/plain": [
              "LogisticRegression(max_iter=1000, multi_class='multinomial', penalty='l1',\n",
              "                   random_state=123, solver='saga')"
            ],
            "text/html": [
              "<style>#sk-container-id-5 {\n",
              "  /* Definition of color scheme common for light and dark mode */\n",
              "  --sklearn-color-text: black;\n",
              "  --sklearn-color-line: gray;\n",
              "  /* Definition of color scheme for unfitted estimators */\n",
              "  --sklearn-color-unfitted-level-0: #fff5e6;\n",
              "  --sklearn-color-unfitted-level-1: #f6e4d2;\n",
              "  --sklearn-color-unfitted-level-2: #ffe0b3;\n",
              "  --sklearn-color-unfitted-level-3: chocolate;\n",
              "  /* Definition of color scheme for fitted estimators */\n",
              "  --sklearn-color-fitted-level-0: #f0f8ff;\n",
              "  --sklearn-color-fitted-level-1: #d4ebff;\n",
              "  --sklearn-color-fitted-level-2: #b3dbfd;\n",
              "  --sklearn-color-fitted-level-3: cornflowerblue;\n",
              "\n",
              "  /* Specific color for light theme */\n",
              "  --sklearn-color-text-on-default-background: var(--sg-text-color, var(--theme-code-foreground, var(--jp-content-font-color1, black)));\n",
              "  --sklearn-color-background: var(--sg-background-color, var(--theme-background, var(--jp-layout-color0, white)));\n",
              "  --sklearn-color-border-box: var(--sg-text-color, var(--theme-code-foreground, var(--jp-content-font-color1, black)));\n",
              "  --sklearn-color-icon: #696969;\n",
              "\n",
              "  @media (prefers-color-scheme: dark) {\n",
              "    /* Redefinition of color scheme for dark theme */\n",
              "    --sklearn-color-text-on-default-background: var(--sg-text-color, var(--theme-code-foreground, var(--jp-content-font-color1, white)));\n",
              "    --sklearn-color-background: var(--sg-background-color, var(--theme-background, var(--jp-layout-color0, #111)));\n",
              "    --sklearn-color-border-box: var(--sg-text-color, var(--theme-code-foreground, var(--jp-content-font-color1, white)));\n",
              "    --sklearn-color-icon: #878787;\n",
              "  }\n",
              "}\n",
              "\n",
              "#sk-container-id-5 {\n",
              "  color: var(--sklearn-color-text);\n",
              "}\n",
              "\n",
              "#sk-container-id-5 pre {\n",
              "  padding: 0;\n",
              "}\n",
              "\n",
              "#sk-container-id-5 input.sk-hidden--visually {\n",
              "  border: 0;\n",
              "  clip: rect(1px 1px 1px 1px);\n",
              "  clip: rect(1px, 1px, 1px, 1px);\n",
              "  height: 1px;\n",
              "  margin: -1px;\n",
              "  overflow: hidden;\n",
              "  padding: 0;\n",
              "  position: absolute;\n",
              "  width: 1px;\n",
              "}\n",
              "\n",
              "#sk-container-id-5 div.sk-dashed-wrapped {\n",
              "  border: 1px dashed var(--sklearn-color-line);\n",
              "  margin: 0 0.4em 0.5em 0.4em;\n",
              "  box-sizing: border-box;\n",
              "  padding-bottom: 0.4em;\n",
              "  background-color: var(--sklearn-color-background);\n",
              "}\n",
              "\n",
              "#sk-container-id-5 div.sk-container {\n",
              "  /* jupyter's `normalize.less` sets `[hidden] { display: none; }`\n",
              "     but bootstrap.min.css set `[hidden] { display: none !important; }`\n",
              "     so we also need the `!important` here to be able to override the\n",
              "     default hidden behavior on the sphinx rendered scikit-learn.org.\n",
              "     See: https://github.com/scikit-learn/scikit-learn/issues/21755 */\n",
              "  display: inline-block !important;\n",
              "  position: relative;\n",
              "}\n",
              "\n",
              "#sk-container-id-5 div.sk-text-repr-fallback {\n",
              "  display: none;\n",
              "}\n",
              "\n",
              "div.sk-parallel-item,\n",
              "div.sk-serial,\n",
              "div.sk-item {\n",
              "  /* draw centered vertical line to link estimators */\n",
              "  background-image: linear-gradient(var(--sklearn-color-text-on-default-background), var(--sklearn-color-text-on-default-background));\n",
              "  background-size: 2px 100%;\n",
              "  background-repeat: no-repeat;\n",
              "  background-position: center center;\n",
              "}\n",
              "\n",
              "/* Parallel-specific style estimator block */\n",
              "\n",
              "#sk-container-id-5 div.sk-parallel-item::after {\n",
              "  content: \"\";\n",
              "  width: 100%;\n",
              "  border-bottom: 2px solid var(--sklearn-color-text-on-default-background);\n",
              "  flex-grow: 1;\n",
              "}\n",
              "\n",
              "#sk-container-id-5 div.sk-parallel {\n",
              "  display: flex;\n",
              "  align-items: stretch;\n",
              "  justify-content: center;\n",
              "  background-color: var(--sklearn-color-background);\n",
              "  position: relative;\n",
              "}\n",
              "\n",
              "#sk-container-id-5 div.sk-parallel-item {\n",
              "  display: flex;\n",
              "  flex-direction: column;\n",
              "}\n",
              "\n",
              "#sk-container-id-5 div.sk-parallel-item:first-child::after {\n",
              "  align-self: flex-end;\n",
              "  width: 50%;\n",
              "}\n",
              "\n",
              "#sk-container-id-5 div.sk-parallel-item:last-child::after {\n",
              "  align-self: flex-start;\n",
              "  width: 50%;\n",
              "}\n",
              "\n",
              "#sk-container-id-5 div.sk-parallel-item:only-child::after {\n",
              "  width: 0;\n",
              "}\n",
              "\n",
              "/* Serial-specific style estimator block */\n",
              "\n",
              "#sk-container-id-5 div.sk-serial {\n",
              "  display: flex;\n",
              "  flex-direction: column;\n",
              "  align-items: center;\n",
              "  background-color: var(--sklearn-color-background);\n",
              "  padding-right: 1em;\n",
              "  padding-left: 1em;\n",
              "}\n",
              "\n",
              "\n",
              "/* Toggleable style: style used for estimator/Pipeline/ColumnTransformer box that is\n",
              "clickable and can be expanded/collapsed.\n",
              "- Pipeline and ColumnTransformer use this feature and define the default style\n",
              "- Estimators will overwrite some part of the style using the `sk-estimator` class\n",
              "*/\n",
              "\n",
              "/* Pipeline and ColumnTransformer style (default) */\n",
              "\n",
              "#sk-container-id-5 div.sk-toggleable {\n",
              "  /* Default theme specific background. It is overwritten whether we have a\n",
              "  specific estimator or a Pipeline/ColumnTransformer */\n",
              "  background-color: var(--sklearn-color-background);\n",
              "}\n",
              "\n",
              "/* Toggleable label */\n",
              "#sk-container-id-5 label.sk-toggleable__label {\n",
              "  cursor: pointer;\n",
              "  display: block;\n",
              "  width: 100%;\n",
              "  margin-bottom: 0;\n",
              "  padding: 0.5em;\n",
              "  box-sizing: border-box;\n",
              "  text-align: center;\n",
              "}\n",
              "\n",
              "#sk-container-id-5 label.sk-toggleable__label-arrow:before {\n",
              "  /* Arrow on the left of the label */\n",
              "  content: \"▸\";\n",
              "  float: left;\n",
              "  margin-right: 0.25em;\n",
              "  color: var(--sklearn-color-icon);\n",
              "}\n",
              "\n",
              "#sk-container-id-5 label.sk-toggleable__label-arrow:hover:before {\n",
              "  color: var(--sklearn-color-text);\n",
              "}\n",
              "\n",
              "/* Toggleable content - dropdown */\n",
              "\n",
              "#sk-container-id-5 div.sk-toggleable__content {\n",
              "  max-height: 0;\n",
              "  max-width: 0;\n",
              "  overflow: hidden;\n",
              "  text-align: left;\n",
              "  /* unfitted */\n",
              "  background-color: var(--sklearn-color-unfitted-level-0);\n",
              "}\n",
              "\n",
              "#sk-container-id-5 div.sk-toggleable__content.fitted {\n",
              "  /* fitted */\n",
              "  background-color: var(--sklearn-color-fitted-level-0);\n",
              "}\n",
              "\n",
              "#sk-container-id-5 div.sk-toggleable__content pre {\n",
              "  margin: 0.2em;\n",
              "  border-radius: 0.25em;\n",
              "  color: var(--sklearn-color-text);\n",
              "  /* unfitted */\n",
              "  background-color: var(--sklearn-color-unfitted-level-0);\n",
              "}\n",
              "\n",
              "#sk-container-id-5 div.sk-toggleable__content.fitted pre {\n",
              "  /* unfitted */\n",
              "  background-color: var(--sklearn-color-fitted-level-0);\n",
              "}\n",
              "\n",
              "#sk-container-id-5 input.sk-toggleable__control:checked~div.sk-toggleable__content {\n",
              "  /* Expand drop-down */\n",
              "  max-height: 200px;\n",
              "  max-width: 100%;\n",
              "  overflow: auto;\n",
              "}\n",
              "\n",
              "#sk-container-id-5 input.sk-toggleable__control:checked~label.sk-toggleable__label-arrow:before {\n",
              "  content: \"▾\";\n",
              "}\n",
              "\n",
              "/* Pipeline/ColumnTransformer-specific style */\n",
              "\n",
              "#sk-container-id-5 div.sk-label input.sk-toggleable__control:checked~label.sk-toggleable__label {\n",
              "  color: var(--sklearn-color-text);\n",
              "  background-color: var(--sklearn-color-unfitted-level-2);\n",
              "}\n",
              "\n",
              "#sk-container-id-5 div.sk-label.fitted input.sk-toggleable__control:checked~label.sk-toggleable__label {\n",
              "  background-color: var(--sklearn-color-fitted-level-2);\n",
              "}\n",
              "\n",
              "/* Estimator-specific style */\n",
              "\n",
              "/* Colorize estimator box */\n",
              "#sk-container-id-5 div.sk-estimator input.sk-toggleable__control:checked~label.sk-toggleable__label {\n",
              "  /* unfitted */\n",
              "  background-color: var(--sklearn-color-unfitted-level-2);\n",
              "}\n",
              "\n",
              "#sk-container-id-5 div.sk-estimator.fitted input.sk-toggleable__control:checked~label.sk-toggleable__label {\n",
              "  /* fitted */\n",
              "  background-color: var(--sklearn-color-fitted-level-2);\n",
              "}\n",
              "\n",
              "#sk-container-id-5 div.sk-label label.sk-toggleable__label,\n",
              "#sk-container-id-5 div.sk-label label {\n",
              "  /* The background is the default theme color */\n",
              "  color: var(--sklearn-color-text-on-default-background);\n",
              "}\n",
              "\n",
              "/* On hover, darken the color of the background */\n",
              "#sk-container-id-5 div.sk-label:hover label.sk-toggleable__label {\n",
              "  color: var(--sklearn-color-text);\n",
              "  background-color: var(--sklearn-color-unfitted-level-2);\n",
              "}\n",
              "\n",
              "/* Label box, darken color on hover, fitted */\n",
              "#sk-container-id-5 div.sk-label.fitted:hover label.sk-toggleable__label.fitted {\n",
              "  color: var(--sklearn-color-text);\n",
              "  background-color: var(--sklearn-color-fitted-level-2);\n",
              "}\n",
              "\n",
              "/* Estimator label */\n",
              "\n",
              "#sk-container-id-5 div.sk-label label {\n",
              "  font-family: monospace;\n",
              "  font-weight: bold;\n",
              "  display: inline-block;\n",
              "  line-height: 1.2em;\n",
              "}\n",
              "\n",
              "#sk-container-id-5 div.sk-label-container {\n",
              "  text-align: center;\n",
              "}\n",
              "\n",
              "/* Estimator-specific */\n",
              "#sk-container-id-5 div.sk-estimator {\n",
              "  font-family: monospace;\n",
              "  border: 1px dotted var(--sklearn-color-border-box);\n",
              "  border-radius: 0.25em;\n",
              "  box-sizing: border-box;\n",
              "  margin-bottom: 0.5em;\n",
              "  /* unfitted */\n",
              "  background-color: var(--sklearn-color-unfitted-level-0);\n",
              "}\n",
              "\n",
              "#sk-container-id-5 div.sk-estimator.fitted {\n",
              "  /* fitted */\n",
              "  background-color: var(--sklearn-color-fitted-level-0);\n",
              "}\n",
              "\n",
              "/* on hover */\n",
              "#sk-container-id-5 div.sk-estimator:hover {\n",
              "  /* unfitted */\n",
              "  background-color: var(--sklearn-color-unfitted-level-2);\n",
              "}\n",
              "\n",
              "#sk-container-id-5 div.sk-estimator.fitted:hover {\n",
              "  /* fitted */\n",
              "  background-color: var(--sklearn-color-fitted-level-2);\n",
              "}\n",
              "\n",
              "/* Specification for estimator info (e.g. \"i\" and \"?\") */\n",
              "\n",
              "/* Common style for \"i\" and \"?\" */\n",
              "\n",
              ".sk-estimator-doc-link,\n",
              "a:link.sk-estimator-doc-link,\n",
              "a:visited.sk-estimator-doc-link {\n",
              "  float: right;\n",
              "  font-size: smaller;\n",
              "  line-height: 1em;\n",
              "  font-family: monospace;\n",
              "  background-color: var(--sklearn-color-background);\n",
              "  border-radius: 1em;\n",
              "  height: 1em;\n",
              "  width: 1em;\n",
              "  text-decoration: none !important;\n",
              "  margin-left: 1ex;\n",
              "  /* unfitted */\n",
              "  border: var(--sklearn-color-unfitted-level-1) 1pt solid;\n",
              "  color: var(--sklearn-color-unfitted-level-1);\n",
              "}\n",
              "\n",
              ".sk-estimator-doc-link.fitted,\n",
              "a:link.sk-estimator-doc-link.fitted,\n",
              "a:visited.sk-estimator-doc-link.fitted {\n",
              "  /* fitted */\n",
              "  border: var(--sklearn-color-fitted-level-1) 1pt solid;\n",
              "  color: var(--sklearn-color-fitted-level-1);\n",
              "}\n",
              "\n",
              "/* On hover */\n",
              "div.sk-estimator:hover .sk-estimator-doc-link:hover,\n",
              ".sk-estimator-doc-link:hover,\n",
              "div.sk-label-container:hover .sk-estimator-doc-link:hover,\n",
              ".sk-estimator-doc-link:hover {\n",
              "  /* unfitted */\n",
              "  background-color: var(--sklearn-color-unfitted-level-3);\n",
              "  color: var(--sklearn-color-background);\n",
              "  text-decoration: none;\n",
              "}\n",
              "\n",
              "div.sk-estimator.fitted:hover .sk-estimator-doc-link.fitted:hover,\n",
              ".sk-estimator-doc-link.fitted:hover,\n",
              "div.sk-label-container:hover .sk-estimator-doc-link.fitted:hover,\n",
              ".sk-estimator-doc-link.fitted:hover {\n",
              "  /* fitted */\n",
              "  background-color: var(--sklearn-color-fitted-level-3);\n",
              "  color: var(--sklearn-color-background);\n",
              "  text-decoration: none;\n",
              "}\n",
              "\n",
              "/* Span, style for the box shown on hovering the info icon */\n",
              ".sk-estimator-doc-link span {\n",
              "  display: none;\n",
              "  z-index: 9999;\n",
              "  position: relative;\n",
              "  font-weight: normal;\n",
              "  right: .2ex;\n",
              "  padding: .5ex;\n",
              "  margin: .5ex;\n",
              "  width: min-content;\n",
              "  min-width: 20ex;\n",
              "  max-width: 50ex;\n",
              "  color: var(--sklearn-color-text);\n",
              "  box-shadow: 2pt 2pt 4pt #999;\n",
              "  /* unfitted */\n",
              "  background: var(--sklearn-color-unfitted-level-0);\n",
              "  border: .5pt solid var(--sklearn-color-unfitted-level-3);\n",
              "}\n",
              "\n",
              ".sk-estimator-doc-link.fitted span {\n",
              "  /* fitted */\n",
              "  background: var(--sklearn-color-fitted-level-0);\n",
              "  border: var(--sklearn-color-fitted-level-3);\n",
              "}\n",
              "\n",
              ".sk-estimator-doc-link:hover span {\n",
              "  display: block;\n",
              "}\n",
              "\n",
              "/* \"?\"-specific style due to the `<a>` HTML tag */\n",
              "\n",
              "#sk-container-id-5 a.estimator_doc_link {\n",
              "  float: right;\n",
              "  font-size: 1rem;\n",
              "  line-height: 1em;\n",
              "  font-family: monospace;\n",
              "  background-color: var(--sklearn-color-background);\n",
              "  border-radius: 1rem;\n",
              "  height: 1rem;\n",
              "  width: 1rem;\n",
              "  text-decoration: none;\n",
              "  /* unfitted */\n",
              "  color: var(--sklearn-color-unfitted-level-1);\n",
              "  border: var(--sklearn-color-unfitted-level-1) 1pt solid;\n",
              "}\n",
              "\n",
              "#sk-container-id-5 a.estimator_doc_link.fitted {\n",
              "  /* fitted */\n",
              "  border: var(--sklearn-color-fitted-level-1) 1pt solid;\n",
              "  color: var(--sklearn-color-fitted-level-1);\n",
              "}\n",
              "\n",
              "/* On hover */\n",
              "#sk-container-id-5 a.estimator_doc_link:hover {\n",
              "  /* unfitted */\n",
              "  background-color: var(--sklearn-color-unfitted-level-3);\n",
              "  color: var(--sklearn-color-background);\n",
              "  text-decoration: none;\n",
              "}\n",
              "\n",
              "#sk-container-id-5 a.estimator_doc_link.fitted:hover {\n",
              "  /* fitted */\n",
              "  background-color: var(--sklearn-color-fitted-level-3);\n",
              "}\n",
              "</style><div id=\"sk-container-id-5\" class=\"sk-top-container\"><div class=\"sk-text-repr-fallback\"><pre>LogisticRegression(max_iter=1000, multi_class=&#x27;multinomial&#x27;, penalty=&#x27;l1&#x27;,\n",
              "                   random_state=123, solver=&#x27;saga&#x27;)</pre><b>In a Jupyter environment, please rerun this cell to show the HTML representation or trust the notebook. <br />On GitHub, the HTML representation is unable to render, please try loading this page with nbviewer.org.</b></div><div class=\"sk-container\" hidden><div class=\"sk-item\"><div class=\"sk-estimator fitted sk-toggleable\"><input class=\"sk-toggleable__control sk-hidden--visually\" id=\"sk-estimator-id-5\" type=\"checkbox\" checked><label for=\"sk-estimator-id-5\" class=\"sk-toggleable__label fitted sk-toggleable__label-arrow fitted\">&nbsp;&nbsp;LogisticRegression<a class=\"sk-estimator-doc-link fitted\" rel=\"noreferrer\" target=\"_blank\" href=\"https://scikit-learn.org/1.4/modules/generated/sklearn.linear_model.LogisticRegression.html\">?<span>Documentation for LogisticRegression</span></a><span class=\"sk-estimator-doc-link fitted\">i<span>Fitted</span></span></label><div class=\"sk-toggleable__content fitted\"><pre>LogisticRegression(max_iter=1000, multi_class=&#x27;multinomial&#x27;, penalty=&#x27;l1&#x27;,\n",
              "                   random_state=123, solver=&#x27;saga&#x27;)</pre></div> </div></div></div></div>"
            ]
          },
          "metadata": {},
          "execution_count": 99
        }
      ],
      "source": [
        "l1_model.fit(X_train, y_train)"
      ],
      "execution_count": 99
    },
    {
      "cell_type": "markdown",
      "metadata": {
        "id": "f28ab6df-50ef-4992-8cb3-5aa25c3edf15"
      },
      "source": [
        "And, make predictions using the input in the test dataset.\n"
      ]
    },
    {
      "cell_type": "code",
      "metadata": {
        "id": "4bb69f1b-aa73-4aac-8c3d-f453fa1b06d9"
      },
      "outputs": [],
      "source": [
        "l1_preds = l1_model.predict(X_test)"
      ],
      "execution_count": 105
    },
    {
      "cell_type": "markdown",
      "metadata": {
        "id": "aec6a2eb-c5a3-4003-9322-17f350d7624f"
      },
      "source": [
        "We can also check the class probability distribution using the `predict_proba` function. For example, we want to see the probabilities of belonging to each class for the first instance in the test dataset:\n"
      ]
    },
    {
      "cell_type": "code",
      "metadata": {
        "colab": {
          "base_uri": "https://localhost:8080/"
        },
        "id": "bebf4379-ca24-4a4a-a761-f9af56d28850",
        "outputId": "86d16e65-8b34-46b6-ff53-236af0c0ad2b"
      },
      "outputs": [
        {
          "output_type": "execute_result",
          "data": {
            "text/plain": [
              "array([3.55065558e-02, 9.64491964e-01, 1.47991419e-06])"
            ]
          },
          "metadata": {},
          "execution_count": 107
        }
      ],
      "source": [
        "odd_ratios = l1_model.predict_proba(X_test[:1, :])[0]\n",
        "odd_ratios"
      ],
      "execution_count": 107
    },
    {
      "cell_type": "markdown",
      "metadata": {
        "id": "56a50a33-cac1-4463-9e24-ac07140f7a76"
      },
      "source": [
        "We can see that  Class 1 has the largest probability 0.96. As such, the model prediction for this instance will be class `1` and this is the same as the `predict` method.\n"
      ]
    },
    {
      "cell_type": "code",
      "metadata": {
        "colab": {
          "base_uri": "https://localhost:8080/"
        },
        "id": "bbefda8c-2648-435d-92d4-8fafa51c2361",
        "outputId": "640da0ce-d27e-44a7-b2c7-7dc2329f1ff3"
      },
      "outputs": [
        {
          "output_type": "execute_result",
          "data": {
            "text/plain": [
              "1"
            ]
          },
          "metadata": {},
          "execution_count": 108
        }
      ],
      "source": [
        "l1_model.predict(X_test[:1, :])[0]"
      ],
      "execution_count": 108
    },
    {
      "cell_type": "markdown",
      "metadata": {
        "id": "604a89da-8985-4a65-8b79-c6a4e8367149"
      },
      "source": [
        "Given the true labels (`y_test`) and predictions, we can evaluate the model performance by calling the utility `evaluate_metrics`  method.\n"
      ]
    },
    {
      "cell_type": "code",
      "metadata": {
        "colab": {
          "base_uri": "https://localhost:8080/"
        },
        "id": "76b55955-e072-4fff-96d2-c68d805591d3",
        "outputId": "8ea80c4c-b13b-45bd-a137-314bbfbe70b9"
      },
      "outputs": [
        {
          "output_type": "execute_result",
          "data": {
            "text/plain": [
              "{'accuracy': 0.8092006033182504,\n",
              " 'recall': array([0.85488722, 0.74377224, 0.87373737]),\n",
              " 'precision': array([0.78848821, 0.83516484, 0.8277512 ]),\n",
              " 'f1score': array([0.82034632, 0.78682353, 0.85012285])}"
            ]
          },
          "metadata": {},
          "execution_count": 112
        }
      ],
      "source": [
        "evaluate_metrics(y_test, l1_preds)"
      ],
      "execution_count": 112
    },
    {
      "cell_type": "markdown",
      "metadata": {
        "id": "9876436b-32af-4cb6-84e0-3c65fa2bdedc"
      },
      "source": [
        "Now, we can see this logistic regression with l1 penalty has much better performance than l2. One possible reason is that l1 penalty may remove some correlated feature variables by shrinking their coefficents to zero. As such, the model is much simplified to avoid overfitting on the training data and better aligned with the logistic regression assumption that all features should be independent.\n"
      ]
    },
    {
      "cell_type": "markdown",
      "metadata": {
        "id": "022467ca-52d5-485a-8c27-dfb634e85abe"
      },
      "source": [
        "### Confusion Matrix\n"
      ]
    },
    {
      "cell_type": "markdown",
      "metadata": {
        "id": "82961fcb-1ef3-49fb-8d15-cb4685182185"
      },
      "source": [
        "We can also plot the confusion matrix based on the true labels and predictions using the `confusion_matrix` method provided by `sklearn`,\n"
      ]
    },
    {
      "cell_type": "code",
      "metadata": {
        "id": "cf40f5c6-6fe6-4604-ba78-58aa6ca86298"
      },
      "outputs": [],
      "source": [
        "cf = confusion_matrix(y_test, l1_preds, normalize='true')"
      ],
      "execution_count": 113
    },
    {
      "cell_type": "markdown",
      "metadata": {
        "id": "58266b65-4d05-4842-aa85-cb1e944a4dd8"
      },
      "source": [
        "and easily visualize it using a heatmap method provided by `seaborn`.\n"
      ]
    },
    {
      "cell_type": "code",
      "metadata": {
        "colab": {
          "base_uri": "https://localhost:8080/",
          "height": 476
        },
        "id": "79cf9c42-68a1-4a04-bce7-d49db22ca6c5",
        "outputId": "7b01aeff-6f92-409b-9f62-25b70eddc1d4"
      },
      "outputs": [
        {
          "output_type": "display_data",
          "data": {
            "text/plain": [
              "<Figure size 640x480 with 2 Axes>"
            ],
            "image/png": "[encoded data removed]"
          },
          "metadata": {}
        }
      ],
      "source": [
        "sns.set_context('talk')\n",
        "disp = ConfusionMatrixDisplay(confusion_matrix=cf,display_labels=l1_model.classes_)\n",
        "disp.plot()\n",
        "plt.show()"
      ],
      "execution_count": 116
    },
    {
      "cell_type": "markdown",
      "metadata": {
        "id": "ec22a680-1a10-4e18-8058-5e4d55848e6a"
      },
      "source": [
        "### Interpret logistic regression models\n"
      ]
    },
    {
      "cell_type": "markdown",
      "metadata": {
        "id": "237f5a1f-e532-4865-b977-a88c7612d172"
      },
      "source": [
        "One way to interpret logistic regression models is by analyzing feature coefficients. Although it may not be as effective as the regular linear regression models because the logistic regression model has a sigmoid function, we can still get a sense for the importance or impact of each feature.  \n"
      ]
    },
    {
      "cell_type": "markdown",
      "metadata": {
        "id": "54505801-404c-4645-9799-9ae732a8d9a9"
      },
      "source": [
        "We can check the coefficients for logistic regression model using its `coef_` attribute:\n"
      ]
    },
    {
      "cell_type": "code",
      "metadata": {
        "colab": {
          "base_uri": "https://localhost:8080/"
        },
        "id": "a6f88e25-78e5-4859-a40b-00a67374d46a",
        "outputId": "fa163d0a-17f0-47b2-b75f-6c3642832b22"
      },
      "outputs": [
        {
          "output_type": "execute_result",
          "data": {
            "text/plain": [
              "array([[ 1.02260612e+01,  0.00000000e+00,  0.00000000e+00,\n",
              "         5.28211590e+00,  0.00000000e+00, -3.70560617e+00,\n",
              "         0.00000000e+00,  9.11923717e-01,  0.00000000e+00,\n",
              "         2.26627496e+01,  0.00000000e+00,  0.00000000e+00,\n",
              "         4.30564271e+00,  1.36942545e-01,  0.00000000e+00,\n",
              "         1.83340368e+00, -2.06761520e-02],\n",
              "       [ 0.00000000e+00,  4.20223530e+00,  2.46648466e+01,\n",
              "         0.00000000e+00,  0.00000000e+00,  0.00000000e+00,\n",
              "         4.94277520e+00,  0.00000000e+00,  1.32251480e+00,\n",
              "        -6.79834695e+00,  1.51669845e+01,  3.46648083e+00,\n",
              "         0.00000000e+00, -1.71144958e+00,  0.00000000e+00,\n",
              "        -1.47866235e-01,  0.00000000e+00],\n",
              "       [-1.11431018e+02, -2.91410454e+01,  0.00000000e+00,\n",
              "         0.00000000e+00,  0.00000000e+00,  0.00000000e+00,\n",
              "         0.00000000e+00, -1.59642876e+00, -4.13437893e+01,\n",
              "         0.00000000e+00, -9.27079323e-01,  0.00000000e+00,\n",
              "         0.00000000e+00,  0.00000000e+00,  0.00000000e+00,\n",
              "         0.00000000e+00,  0.00000000e+00]])"
            ]
          },
          "metadata": {},
          "execution_count": 120
        }
      ],
      "source": [
        "l1_model.coef_"
      ],
      "execution_count": 120
    },
    {
      "cell_type": "markdown",
      "metadata": {
        "id": "9e2f3493-a15e-4612-a998-a057d173b49a"
      },
      "source": [
        "The `coef_` is a coefficients list with three elements, one element is the actual coefficent for class 0, 1, 2. To better analyze the coefficients, let's use three utility methods to sort and visualize them.\n"
      ]
    },
    {
      "cell_type": "code",
      "metadata": {
        "id": "0a771acc-7480-42bd-9810-ffbd790f3cec"
      },
      "outputs": [],
      "source": [
        "# Extract and sort feature coefficients\n",
        "def get_feature_coefs(regression_model, label_index, columns):\n",
        "    coef_dict = {}\n",
        "    for coef, feat in zip(regression_model.coef_[label_index, :], columns):\n",
        "        if abs(coef) >= 0.01:\n",
        "            coef_dict[feat] = coef\n",
        "    # Sort coefficients\n",
        "    coef_dict = {k: v for k, v in sorted(coef_dict.items(), key=lambda item: item[1])}\n",
        "    return coef_dict\n",
        "\n",
        "# Generate bar colors based on if value is negative or positive\n",
        "def get_bar_colors(values):\n",
        "    color_vals = []\n",
        "    for val in values:\n",
        "        if val <= 0:\n",
        "            color_vals.append('r')\n",
        "        else:\n",
        "            color_vals.append('g')\n",
        "    return color_vals\n",
        "\n",
        "# Visualize coefficients\n",
        "def visualize_coefs(coef_dict):\n",
        "    features = list(coef_dict.keys())\n",
        "    values = list(coef_dict.values())\n",
        "    y_pos = np.arange(len(features))\n",
        "    color_vals = get_bar_colors(values)\n",
        "    plt.rcdefaults()\n",
        "    fig, ax = plt.subplots()\n",
        "    ax.barh(y_pos, values, align='center', color=color_vals)\n",
        "    ax.set_yticks(y_pos)\n",
        "    ax.set_yticklabels(features)\n",
        "    # labels read top-to-bottom\n",
        "    ax.invert_yaxis()\n",
        "    ax.set_xlabel('Feature Coefficients')\n",
        "    ax.set_title('')\n",
        "    plt.show()"
      ],
      "execution_count": 122
    },
    {
      "cell_type": "markdown",
      "metadata": {
        "id": "0a8fce0b-2e8f-4e10-a439-830ece228c35"
      },
      "source": [
        "Then, let's visualize the sorted coefficient for class 1, the `Less Often` class:\n"
      ]
    },
    {
      "cell_type": "code",
      "metadata": {
        "id": "df5f9dec-034f-47ce-9e09-b88a1c51f6d0"
      },
      "outputs": [],
      "source": [
        "# Get the coefficents for Class 1, Less Often\n",
        "coef_dict = get_feature_coefs(l1_model, 1, feature_cols)"
      ],
      "execution_count": 159
    },
    {
      "cell_type": "code",
      "metadata": {
        "colab": {
          "base_uri": "https://localhost:8080/",
          "height": 449
        },
        "id": "addca7bf-e483-4f54-9c3a-a5bf8a3d8346",
        "outputId": "c47b945e-4698-49b6-8c48-c3d36f3fa7ac"
      },
      "outputs": [
        {
          "output_type": "display_data",
          "data": {
            "text/plain": [
              "<Figure size 640x480 with 1 Axes>"
            ],
            "image/png": "[encoded data removed]"
          },
          "metadata": {}
        }
      ],
      "source": [
        "visualize_coefs(coef_dict)"
      ],
      "execution_count": 160
    },
    {
      "cell_type": "markdown",
      "metadata": {
        "id": "c2873a75-6da0-4a88-bbee-b63350235de9"
      },
      "source": [
        "As we can see, unhealthy nutrients such as Saturated Fat, Sugars, Cholesterol, Total Fat, etc., have high positive coefficients. Food items containing unhealthy nutrients will have higher coeficients and will be more likely to be categorized in the 'Less Often' class.\n"
      ]
    },
    {
      "cell_type": "markdown",
      "metadata": {
        "id": "98dae284-24c6-438c-a576-c6858952f29c"
      },
      "source": [
        "Next, let's see the coefficents for Class 2, `More Often`:\n"
      ]
    },
    {
      "cell_type": "code",
      "metadata": {
        "colab": {
          "base_uri": "https://localhost:8080/",
          "height": 449
        },
        "id": "e7ad9059-52aa-43d0-a8f1-8ba6111f1e47",
        "outputId": "5e30803d-3e05-4d3b-903f-257399e0b9a3"
      },
      "outputs": [
        {
          "output_type": "display_data",
          "data": {
            "text/plain": [
              "<Figure size 640x480 with 1 Axes>"
            ],
            "image/png": "[encoded data removed]"
          },
          "metadata": {}
        }
      ],
      "source": [
        "# Coefficients for Class 2\n",
        "coef_dict = get_feature_coefs(l1_model, 2, feature_cols)\n",
        "visualize_coefs(coef_dict)"
      ],
      "execution_count": 125
    },
    {
      "cell_type": "code",
      "source": [
        "# Coefficients for Class 3\n",
        "coef_dict = get_feature_coefs(l1_model, 0, feature_cols)\n",
        "visualize_coefs(coef_dict)"
      ],
      "metadata": {
        "colab": {
          "base_uri": "https://localhost:8080/",
          "height": 449
        },
        "id": "uoZ6V43EYhKx",
        "outputId": "e5e0b9a4-a689-4f71-e054-63e14e1a7667"
      },
      "execution_count": 128,
      "outputs": [
        {
          "output_type": "display_data",
          "data": {
            "text/plain": [
              "<Figure size 640x480 with 1 Axes>"
            ],
            "image/png": "[encoded data removed]"
          },
          "metadata": {}
        }
      ]
    },
    {
      "cell_type": "markdown",
      "metadata": {
        "id": "8a24ef64-fdcf-471f-96e1-ddd01ff4aab5"
      },
      "source": [
        "Conversely, if a food item has a high amount of calories, total carbohydrates, and total fat, then it is unlikely to be categorized in the 'More Often' class.\n"
      ]
    },
    {
      "cell_type": "markdown",
      "metadata": {
        "id": "b70efbd6-5db2-4951-b081-6d3e67236329"
      },
      "source": [
        "## Coding Exercise: Train and evaluate a logistic regression model with elastic-net penality\n"
      ]
    },
    {
      "cell_type": "markdown",
      "metadata": {
        "id": "0e63179d-fcea-419d-ba3f-5098bb847196"
      },
      "source": [
        "Now, it's your turn to walk through the end-to-end process of defining, building, evaluating, and interpreting a logistic regression model.\n"
      ]
    },
    {
      "cell_type": "markdown",
      "metadata": {
        "id": "fbb7806f-e76b-4279-95e3-8b3c507fb96f"
      },
      "source": [
        "### Define a logistic regression with elastic-net penality\n"
      ]
    },
    {
      "cell_type": "code",
      "metadata": {
        "id": "c4e3f809-b6ab-4dd6-ac93-c2d354047a1a"
      },
      "outputs": [],
      "source": [
        "# Type your code here\n",
        "# HINT: sklearn only support saga solver for elastic-net penality\n",
        "# and you need to set another l1_ratio to be within 0 < l1_ratio <1, in order to actually use elastic-net\n",
        "\n",
        "from sklearn.linear_model import LogisticRegressionCV\n",
        "\n",
        "# L1 penalty to shrink coefficients without removing any features from the model\n",
        "penalty = 'elasticnet'\n",
        "# Our classification problem is multinomial\n",
        "multi_class = 'multinomial'\n",
        "# Use saga for elastic-net penalty and multinomial classes\n",
        "solver = 'saga'\n",
        "# Max iteration = 1000\n",
        "max_iter = 2000\n",
        "# Set l1_ratio to be within 0 < l1_ratio < 1 for elastic-net\n",
        "l1_ratio = 0.5\n",
        "\n",
        "# Train the model with training input data X_train and labels y_train\n",
        "lr_elastic_net = LogisticRegressionCV(Cs=10, cv=4, penalty=penalty, solver=solver, multi_class=multi_class, max_iter=max_iter, l1_ratios=[l1_ratio]).fit(X_train, y_train)\n",
        "\n"
      ],
      "execution_count": 136
    },
    {
      "cell_type": "markdown",
      "metadata": {
        "id": "129cf758-d022-4cf1-9111-999acd3e70dc"
      },
      "source": [
        "### Train the model with training data\n"
      ]
    },
    {
      "cell_type": "code",
      "metadata": {
        "colab": {
          "base_uri": "https://localhost:8080/",
          "height": 115
        },
        "id": "6166b8f5-f188-4628-881e-80fc3e64aa30",
        "outputId": "0d6624c6-18b8-40e7-9869-cda7cef43326"
      },
      "outputs": [
        {
          "output_type": "execute_result",
          "data": {
            "text/plain": [
              "LogisticRegressionCV(cv=4, l1_ratios=[0.5], max_iter=2000,\n",
              "                     multi_class='multinomial', penalty='elasticnet',\n",
              "                     solver='saga')"
            ],
            "text/html": [
              "<style>#sk-container-id-7 {\n",
              "  /* Definition of color scheme common for light and dark mode */\n",
              "  --sklearn-color-text: black;\n",
              "  --sklearn-color-line: gray;\n",
              "  /* Definition of color scheme for unfitted estimators */\n",
              "  --sklearn-color-unfitted-level-0: #fff5e6;\n",
              "  --sklearn-color-unfitted-level-1: #f6e4d2;\n",
              "  --sklearn-color-unfitted-level-2: #ffe0b3;\n",
              "  --sklearn-color-unfitted-level-3: chocolate;\n",
              "  /* Definition of color scheme for fitted estimators */\n",
              "  --sklearn-color-fitted-level-0: #f0f8ff;\n",
              "  --sklearn-color-fitted-level-1: #d4ebff;\n",
              "  --sklearn-color-fitted-level-2: #b3dbfd;\n",
              "  --sklearn-color-fitted-level-3: cornflowerblue;\n",
              "\n",
              "  /* Specific color for light theme */\n",
              "  --sklearn-color-text-on-default-background: var(--sg-text-color, var(--theme-code-foreground, var(--jp-content-font-color1, black)));\n",
              "  --sklearn-color-background: var(--sg-background-color, var(--theme-background, var(--jp-layout-color0, white)));\n",
              "  --sklearn-color-border-box: var(--sg-text-color, var(--theme-code-foreground, var(--jp-content-font-color1, black)));\n",
              "  --sklearn-color-icon: #696969;\n",
              "\n",
              "  @media (prefers-color-scheme: dark) {\n",
              "    /* Redefinition of color scheme for dark theme */\n",
              "    --sklearn-color-text-on-default-background: var(--sg-text-color, var(--theme-code-foreground, var(--jp-content-font-color1, white)));\n",
              "    --sklearn-color-background: var(--sg-background-color, var(--theme-background, var(--jp-layout-color0, #111)));\n",
              "    --sklearn-color-border-box: var(--sg-text-color, var(--theme-code-foreground, var(--jp-content-font-color1, white)));\n",
              "    --sklearn-color-icon: #878787;\n",
              "  }\n",
              "}\n",
              "\n",
              "#sk-container-id-7 {\n",
              "  color: var(--sklearn-color-text);\n",
              "}\n",
              "\n",
              "#sk-container-id-7 pre {\n",
              "  padding: 0;\n",
              "}\n",
              "\n",
              "#sk-container-id-7 input.sk-hidden--visually {\n",
              "  border: 0;\n",
              "  clip: rect(1px 1px 1px 1px);\n",
              "  clip: rect(1px, 1px, 1px, 1px);\n",
              "  height: 1px;\n",
              "  margin: -1px;\n",
              "  overflow: hidden;\n",
              "  padding: 0;\n",
              "  position: absolute;\n",
              "  width: 1px;\n",
              "}\n",
              "\n",
              "#sk-container-id-7 div.sk-dashed-wrapped {\n",
              "  border: 1px dashed var(--sklearn-color-line);\n",
              "  margin: 0 0.4em 0.5em 0.4em;\n",
              "  box-sizing: border-box;\n",
              "  padding-bottom: 0.4em;\n",
              "  background-color: var(--sklearn-color-background);\n",
              "}\n",
              "\n",
              "#sk-container-id-7 div.sk-container {\n",
              "  /* jupyter's `normalize.less` sets `[hidden] { display: none; }`\n",
              "     but bootstrap.min.css set `[hidden] { display: none !important; }`\n",
              "     so we also need the `!important` here to be able to override the\n",
              "     default hidden behavior on the sphinx rendered scikit-learn.org.\n",
              "     See: https://github.com/scikit-learn/scikit-learn/issues/21755 */\n",
              "  display: inline-block !important;\n",
              "  position: relative;\n",
              "}\n",
              "\n",
              "#sk-container-id-7 div.sk-text-repr-fallback {\n",
              "  display: none;\n",
              "}\n",
              "\n",
              "div.sk-parallel-item,\n",
              "div.sk-serial,\n",
              "div.sk-item {\n",
              "  /* draw centered vertical line to link estimators */\n",
              "  background-image: linear-gradient(var(--sklearn-color-text-on-default-background), var(--sklearn-color-text-on-default-background));\n",
              "  background-size: 2px 100%;\n",
              "  background-repeat: no-repeat;\n",
              "  background-position: center center;\n",
              "}\n",
              "\n",
              "/* Parallel-specific style estimator block */\n",
              "\n",
              "#sk-container-id-7 div.sk-parallel-item::after {\n",
              "  content: \"\";\n",
              "  width: 100%;\n",
              "  border-bottom: 2px solid var(--sklearn-color-text-on-default-background);\n",
              "  flex-grow: 1;\n",
              "}\n",
              "\n",
              "#sk-container-id-7 div.sk-parallel {\n",
              "  display: flex;\n",
              "  align-items: stretch;\n",
              "  justify-content: center;\n",
              "  background-color: var(--sklearn-color-background);\n",
              "  position: relative;\n",
              "}\n",
              "\n",
              "#sk-container-id-7 div.sk-parallel-item {\n",
              "  display: flex;\n",
              "  flex-direction: column;\n",
              "}\n",
              "\n",
              "#sk-container-id-7 div.sk-parallel-item:first-child::after {\n",
              "  align-self: flex-end;\n",
              "  width: 50%;\n",
              "}\n",
              "\n",
              "#sk-container-id-7 div.sk-parallel-item:last-child::after {\n",
              "  align-self: flex-start;\n",
              "  width: 50%;\n",
              "}\n",
              "\n",
              "#sk-container-id-7 div.sk-parallel-item:only-child::after {\n",
              "  width: 0;\n",
              "}\n",
              "\n",
              "/* Serial-specific style estimator block */\n",
              "\n",
              "#sk-container-id-7 div.sk-serial {\n",
              "  display: flex;\n",
              "  flex-direction: column;\n",
              "  align-items: center;\n",
              "  background-color: var(--sklearn-color-background);\n",
              "  padding-right: 1em;\n",
              "  padding-left: 1em;\n",
              "}\n",
              "\n",
              "\n",
              "/* Toggleable style: style used for estimator/Pipeline/ColumnTransformer box that is\n",
              "clickable and can be expanded/collapsed.\n",
              "- Pipeline and ColumnTransformer use this feature and define the default style\n",
              "- Estimators will overwrite some part of the style using the `sk-estimator` class\n",
              "*/\n",
              "\n",
              "/* Pipeline and ColumnTransformer style (default) */\n",
              "\n",
              "#sk-container-id-7 div.sk-toggleable {\n",
              "  /* Default theme specific background. It is overwritten whether we have a\n",
              "  specific estimator or a Pipeline/ColumnTransformer */\n",
              "  background-color: var(--sklearn-color-background);\n",
              "}\n",
              "\n",
              "/* Toggleable label */\n",
              "#sk-container-id-7 label.sk-toggleable__label {\n",
              "  cursor: pointer;\n",
              "  display: block;\n",
              "  width: 100%;\n",
              "  margin-bottom: 0;\n",
              "  padding: 0.5em;\n",
              "  box-sizing: border-box;\n",
              "  text-align: center;\n",
              "}\n",
              "\n",
              "#sk-container-id-7 label.sk-toggleable__label-arrow:before {\n",
              "  /* Arrow on the left of the label */\n",
              "  content: \"▸\";\n",
              "  float: left;\n",
              "  margin-right: 0.25em;\n",
              "  color: var(--sklearn-color-icon);\n",
              "}\n",
              "\n",
              "#sk-container-id-7 label.sk-toggleable__label-arrow:hover:before {\n",
              "  color: var(--sklearn-color-text);\n",
              "}\n",
              "\n",
              "/* Toggleable content - dropdown */\n",
              "\n",
              "#sk-container-id-7 div.sk-toggleable__content {\n",
              "  max-height: 0;\n",
              "  max-width: 0;\n",
              "  overflow: hidden;\n",
              "  text-align: left;\n",
              "  /* unfitted */\n",
              "  background-color: var(--sklearn-color-unfitted-level-0);\n",
              "}\n",
              "\n",
              "#sk-container-id-7 div.sk-toggleable__content.fitted {\n",
              "  /* fitted */\n",
              "  background-color: var(--sklearn-color-fitted-level-0);\n",
              "}\n",
              "\n",
              "#sk-container-id-7 div.sk-toggleable__content pre {\n",
              "  margin: 0.2em;\n",
              "  border-radius: 0.25em;\n",
              "  color: var(--sklearn-color-text);\n",
              "  /* unfitted */\n",
              "  background-color: var(--sklearn-color-unfitted-level-0);\n",
              "}\n",
              "\n",
              "#sk-container-id-7 div.sk-toggleable__content.fitted pre {\n",
              "  /* unfitted */\n",
              "  background-color: var(--sklearn-color-fitted-level-0);\n",
              "}\n",
              "\n",
              "#sk-container-id-7 input.sk-toggleable__control:checked~div.sk-toggleable__content {\n",
              "  /* Expand drop-down */\n",
              "  max-height: 200px;\n",
              "  max-width: 100%;\n",
              "  overflow: auto;\n",
              "}\n",
              "\n",
              "#sk-container-id-7 input.sk-toggleable__control:checked~label.sk-toggleable__label-arrow:before {\n",
              "  content: \"▾\";\n",
              "}\n",
              "\n",
              "/* Pipeline/ColumnTransformer-specific style */\n",
              "\n",
              "#sk-container-id-7 div.sk-label input.sk-toggleable__control:checked~label.sk-toggleable__label {\n",
              "  color: var(--sklearn-color-text);\n",
              "  background-color: var(--sklearn-color-unfitted-level-2);\n",
              "}\n",
              "\n",
              "#sk-container-id-7 div.sk-label.fitted input.sk-toggleable__control:checked~label.sk-toggleable__label {\n",
              "  background-color: var(--sklearn-color-fitted-level-2);\n",
              "}\n",
              "\n",
              "/* Estimator-specific style */\n",
              "\n",
              "/* Colorize estimator box */\n",
              "#sk-container-id-7 div.sk-estimator input.sk-toggleable__control:checked~label.sk-toggleable__label {\n",
              "  /* unfitted */\n",
              "  background-color: var(--sklearn-color-unfitted-level-2);\n",
              "}\n",
              "\n",
              "#sk-container-id-7 div.sk-estimator.fitted input.sk-toggleable__control:checked~label.sk-toggleable__label {\n",
              "  /* fitted */\n",
              "  background-color: var(--sklearn-color-fitted-level-2);\n",
              "}\n",
              "\n",
              "#sk-container-id-7 div.sk-label label.sk-toggleable__label,\n",
              "#sk-container-id-7 div.sk-label label {\n",
              "  /* The background is the default theme color */\n",
              "  color: var(--sklearn-color-text-on-default-background);\n",
              "}\n",
              "\n",
              "/* On hover, darken the color of the background */\n",
              "#sk-container-id-7 div.sk-label:hover label.sk-toggleable__label {\n",
              "  color: var(--sklearn-color-text);\n",
              "  background-color: var(--sklearn-color-unfitted-level-2);\n",
              "}\n",
              "\n",
              "/* Label box, darken color on hover, fitted */\n",
              "#sk-container-id-7 div.sk-label.fitted:hover label.sk-toggleable__label.fitted {\n",
              "  color: var(--sklearn-color-text);\n",
              "  background-color: var(--sklearn-color-fitted-level-2);\n",
              "}\n",
              "\n",
              "/* Estimator label */\n",
              "\n",
              "#sk-container-id-7 div.sk-label label {\n",
              "  font-family: monospace;\n",
              "  font-weight: bold;\n",
              "  display: inline-block;\n",
              "  line-height: 1.2em;\n",
              "}\n",
              "\n",
              "#sk-container-id-7 div.sk-label-container {\n",
              "  text-align: center;\n",
              "}\n",
              "\n",
              "/* Estimator-specific */\n",
              "#sk-container-id-7 div.sk-estimator {\n",
              "  font-family: monospace;\n",
              "  border: 1px dotted var(--sklearn-color-border-box);\n",
              "  border-radius: 0.25em;\n",
              "  box-sizing: border-box;\n",
              "  margin-bottom: 0.5em;\n",
              "  /* unfitted */\n",
              "  background-color: var(--sklearn-color-unfitted-level-0);\n",
              "}\n",
              "\n",
              "#sk-container-id-7 div.sk-estimator.fitted {\n",
              "  /* fitted */\n",
              "  background-color: var(--sklearn-color-fitted-level-0);\n",
              "}\n",
              "\n",
              "/* on hover */\n",
              "#sk-container-id-7 div.sk-estimator:hover {\n",
              "  /* unfitted */\n",
              "  background-color: var(--sklearn-color-unfitted-level-2);\n",
              "}\n",
              "\n",
              "#sk-container-id-7 div.sk-estimator.fitted:hover {\n",
              "  /* fitted */\n",
              "  background-color: var(--sklearn-color-fitted-level-2);\n",
              "}\n",
              "\n",
              "/* Specification for estimator info (e.g. \"i\" and \"?\") */\n",
              "\n",
              "/* Common style for \"i\" and \"?\" */\n",
              "\n",
              ".sk-estimator-doc-link,\n",
              "a:link.sk-estimator-doc-link,\n",
              "a:visited.sk-estimator-doc-link {\n",
              "  float: right;\n",
              "  font-size: smaller;\n",
              "  line-height: 1em;\n",
              "  font-family: monospace;\n",
              "  background-color: var(--sklearn-color-background);\n",
              "  border-radius: 1em;\n",
              "  height: 1em;\n",
              "  width: 1em;\n",
              "  text-decoration: none !important;\n",
              "  margin-left: 1ex;\n",
              "  /* unfitted */\n",
              "  border: var(--sklearn-color-unfitted-level-1) 1pt solid;\n",
              "  color: var(--sklearn-color-unfitted-level-1);\n",
              "}\n",
              "\n",
              ".sk-estimator-doc-link.fitted,\n",
              "a:link.sk-estimator-doc-link.fitted,\n",
              "a:visited.sk-estimator-doc-link.fitted {\n",
              "  /* fitted */\n",
              "  border: var(--sklearn-color-fitted-level-1) 1pt solid;\n",
              "  color: var(--sklearn-color-fitted-level-1);\n",
              "}\n",
              "\n",
              "/* On hover */\n",
              "div.sk-estimator:hover .sk-estimator-doc-link:hover,\n",
              ".sk-estimator-doc-link:hover,\n",
              "div.sk-label-container:hover .sk-estimator-doc-link:hover,\n",
              ".sk-estimator-doc-link:hover {\n",
              "  /* unfitted */\n",
              "  background-color: var(--sklearn-color-unfitted-level-3);\n",
              "  color: var(--sklearn-color-background);\n",
              "  text-decoration: none;\n",
              "}\n",
              "\n",
              "div.sk-estimator.fitted:hover .sk-estimator-doc-link.fitted:hover,\n",
              ".sk-estimator-doc-link.fitted:hover,\n",
              "div.sk-label-container:hover .sk-estimator-doc-link.fitted:hover,\n",
              ".sk-estimator-doc-link.fitted:hover {\n",
              "  /* fitted */\n",
              "  background-color: var(--sklearn-color-fitted-level-3);\n",
              "  color: var(--sklearn-color-background);\n",
              "  text-decoration: none;\n",
              "}\n",
              "\n",
              "/* Span, style for the box shown on hovering the info icon */\n",
              ".sk-estimator-doc-link span {\n",
              "  display: none;\n",
              "  z-index: 9999;\n",
              "  position: relative;\n",
              "  font-weight: normal;\n",
              "  right: .2ex;\n",
              "  padding: .5ex;\n",
              "  margin: .5ex;\n",
              "  width: min-content;\n",
              "  min-width: 20ex;\n",
              "  max-width: 50ex;\n",
              "  color: var(--sklearn-color-text);\n",
              "  box-shadow: 2pt 2pt 4pt #999;\n",
              "  /* unfitted */\n",
              "  background: var(--sklearn-color-unfitted-level-0);\n",
              "  border: .5pt solid var(--sklearn-color-unfitted-level-3);\n",
              "}\n",
              "\n",
              ".sk-estimator-doc-link.fitted span {\n",
              "  /* fitted */\n",
              "  background: var(--sklearn-color-fitted-level-0);\n",
              "  border: var(--sklearn-color-fitted-level-3);\n",
              "}\n",
              "\n",
              ".sk-estimator-doc-link:hover span {\n",
              "  display: block;\n",
              "}\n",
              "\n",
              "/* \"?\"-specific style due to the `<a>` HTML tag */\n",
              "\n",
              "#sk-container-id-7 a.estimator_doc_link {\n",
              "  float: right;\n",
              "  font-size: 1rem;\n",
              "  line-height: 1em;\n",
              "  font-family: monospace;\n",
              "  background-color: var(--sklearn-color-background);\n",
              "  border-radius: 1rem;\n",
              "  height: 1rem;\n",
              "  width: 1rem;\n",
              "  text-decoration: none;\n",
              "  /* unfitted */\n",
              "  color: var(--sklearn-color-unfitted-level-1);\n",
              "  border: var(--sklearn-color-unfitted-level-1) 1pt solid;\n",
              "}\n",
              "\n",
              "#sk-container-id-7 a.estimator_doc_link.fitted {\n",
              "  /* fitted */\n",
              "  border: var(--sklearn-color-fitted-level-1) 1pt solid;\n",
              "  color: var(--sklearn-color-fitted-level-1);\n",
              "}\n",
              "\n",
              "/* On hover */\n",
              "#sk-container-id-7 a.estimator_doc_link:hover {\n",
              "  /* unfitted */\n",
              "  background-color: var(--sklearn-color-unfitted-level-3);\n",
              "  color: var(--sklearn-color-background);\n",
              "  text-decoration: none;\n",
              "}\n",
              "\n",
              "#sk-container-id-7 a.estimator_doc_link.fitted:hover {\n",
              "  /* fitted */\n",
              "  background-color: var(--sklearn-color-fitted-level-3);\n",
              "}\n",
              "</style><div id=\"sk-container-id-7\" class=\"sk-top-container\"><div class=\"sk-text-repr-fallback\"><pre>LogisticRegressionCV(cv=4, l1_ratios=[0.5], max_iter=2000,\n",
              "                     multi_class=&#x27;multinomial&#x27;, penalty=&#x27;elasticnet&#x27;,\n",
              "                     solver=&#x27;saga&#x27;)</pre><b>In a Jupyter environment, please rerun this cell to show the HTML representation or trust the notebook. <br />On GitHub, the HTML representation is unable to render, please try loading this page with nbviewer.org.</b></div><div class=\"sk-container\" hidden><div class=\"sk-item\"><div class=\"sk-estimator fitted sk-toggleable\"><input class=\"sk-toggleable__control sk-hidden--visually\" id=\"sk-estimator-id-7\" type=\"checkbox\" checked><label for=\"sk-estimator-id-7\" class=\"sk-toggleable__label fitted sk-toggleable__label-arrow fitted\">&nbsp;&nbsp;LogisticRegressionCV<a class=\"sk-estimator-doc-link fitted\" rel=\"noreferrer\" target=\"_blank\" href=\"https://scikit-learn.org/1.4/modules/generated/sklearn.linear_model.LogisticRegressionCV.html\">?<span>Documentation for LogisticRegressionCV</span></a><span class=\"sk-estimator-doc-link fitted\">i<span>Fitted</span></span></label><div class=\"sk-toggleable__content fitted\"><pre>LogisticRegressionCV(cv=4, l1_ratios=[0.5], max_iter=2000,\n",
              "                     multi_class=&#x27;multinomial&#x27;, penalty=&#x27;elasticnet&#x27;,\n",
              "                     solver=&#x27;saga&#x27;)</pre></div> </div></div></div></div>"
            ]
          },
          "metadata": {},
          "execution_count": 139
        }
      ],
      "source": [
        "# Type your code here\n",
        "lr_elastic_net.fit(X_train, y_train)"
      ],
      "execution_count": 139
    },
    {
      "cell_type": "code",
      "source": [
        "lr_elastic_net_pred=lr_elastic_net.predict(X_test)"
      ],
      "metadata": {
        "id": "cpFSulMpdpob"
      },
      "execution_count": 141,
      "outputs": []
    },
    {
      "cell_type": "markdown",
      "metadata": {
        "id": "026388d5-6715-47cb-a357-735bed484c3e"
      },
      "source": [
        "### Evaluate the model using accuracy, precision, recall, and F1score\n"
      ]
    },
    {
      "cell_type": "code",
      "metadata": {
        "colab": {
          "base_uri": "https://localhost:8080/"
        },
        "id": "31f38feb-74b4-4535-b574-0d745884ddef",
        "outputId": "92057646-d6c3-4dbd-d76d-2eb1e61b4a73"
      },
      "outputs": [
        {
          "output_type": "execute_result",
          "data": {
            "text/plain": [
              "{'accuracy': 0.8141025641025641,\n",
              " 'recall': array([0.85488722, 0.75088968, 0.8989899 ]),\n",
              " 'precision': array([0.7951049 , 0.83813307, 0.82790698]),\n",
              " 'f1score': array([0.82391304, 0.79211638, 0.86198547])}"
            ]
          },
          "metadata": {},
          "execution_count": 142
        }
      ],
      "source": [
        "# Type your code here\n",
        "evaluate_metrics(y_test, lr_elastic_net_pred)"
      ],
      "execution_count": 142
    },
    {
      "cell_type": "markdown",
      "metadata": {
        "id": "3e326daa-3c55-447f-808a-fb8760f74892"
      },
      "source": [
        "### Plot confusion matrix\n"
      ]
    },
    {
      "cell_type": "code",
      "metadata": {
        "id": "74a5b4ce-55e1-4b83-82a5-0390c25d4ca3"
      },
      "outputs": [],
      "source": [
        "# Type your code here\n",
        "cf = confusion_matrix(y_test, lr_elastic_net_pred, normalize='true')\n"
      ],
      "execution_count": 149
    },
    {
      "cell_type": "code",
      "source": [
        "sns.set_context('talk')\n",
        "disp = ConfusionMatrixDisplay(confusion_matrix=cf,display_labels=lr_elastic_net.classes_)\n",
        "disp.plot()\n",
        "plt.show()\n",
        "\n",
        "sns.set_context('talk')\n",
        "disp = ConfusionMatrixDisplay(confusion_matrix=cf,display_labels=l1_model.classes_)\n",
        "disp.plot()\n",
        "plt.show()"
      ],
      "metadata": {
        "colab": {
          "base_uri": "https://localhost:8080/",
          "height": 476
        },
        "id": "urBPYcWBqbcv",
        "outputId": "10ac7d3d-50af-4cb1-cd11-a9a4d052782b"
      },
      "execution_count": 150,
      "outputs": [
        {
          "output_type": "display_data",
          "data": {
            "text/plain": [
              "<Figure size 640x480 with 2 Axes>"
            ],
            "image/png": "[encoded data removed]"
          },
          "metadata": {}
        }
      ]
    },
    {
      "cell_type": "code",
      "source": [
        "import seaborn as sns\n",
        "from sklearn.metrics import confusion_matrix\n",
        "import matplotlib.pyplot as plt\n",
        "\n",
        "# Define your class labels\n",
        "class_labels = ['In Moderation', 'Less Often', 'More Often']\n",
        "\n",
        "# Use the trained model to predict the labels on the test set\n",
        "y_pred_elastic_net = lr_elastic_net.predict(X_test)\n",
        "\n",
        "# Calculate the confusion matrix with normalization\n",
        "cm_elastic_net_normalized = confusion_matrix(y_test, y_pred_elastic_net, normalize='true')\n",
        "\n",
        "# Plot the confusion matrix using seaborn\n",
        "plt.figure(figsize=(8, 6))\n",
        "sns.heatmap(cm_elastic_net_normalized, annot=True, cmap=\"Blues\", xticklabels=class_labels, yticklabels=class_labels)\n",
        "plt.title('Normalized Confusion Matrix - Elastic-Net Logistic Regression')\n",
        "plt.xlabel('Predicted')\n",
        "plt.ylabel('True')\n",
        "plt.show()\n"
      ],
      "metadata": {
        "colab": {
          "base_uri": "https://localhost:8080/",
          "height": 596
        },
        "id": "dlkgVQgvrtHx",
        "outputId": "3c9b8a49-38ba-43fe-b981-4eb69f23659f"
      },
      "execution_count": 154,
      "outputs": [
        {
          "output_type": "display_data",
          "data": {
            "text/plain": [
              "<Figure size 800x600 with 2 Axes>"
            ],
            "image/png": "[encoded data removed]"
          },
          "metadata": {}
        }
      ]
    },
    {
      "cell_type": "markdown",
      "metadata": {
        "id": "b36c9d3f-24a4-467d-a8e9-d7358be2319a"
      },
      "source": [
        "### Interpret the model by analysing its coefficients\n"
      ]
    },
    {
      "cell_type": "code",
      "metadata": {
        "colab": {
          "base_uri": "https://localhost:8080/",
          "height": 449
        },
        "id": "82901226-239b-4d0c-87ac-a5e17e09d552",
        "outputId": "5706e2b3-6ee0-43c3-de19-866447ab2216"
      },
      "outputs": [
        {
          "output_type": "display_data",
          "data": {
            "text/plain": [
              "<Figure size 640x480 with 1 Axes>"
            ],
            "image/png": "[encoded data removed]"
          },
          "metadata": {}
        }
      ],
      "source": [
        "# Type your code here\n",
        "coef_dict = get_feature_coefs(lr_elastic_net, 1, feature_cols)\n",
        "visualize_coefs(coef_dict)"
      ],
      "execution_count": 156
    },
    {
      "cell_type": "code",
      "source": [
        "# Type your code here\n",
        "coef_dict = get_feature_coefs(lr_elastic_net, 2, feature_cols)\n",
        "visualize_coefs(coef_dict)"
      ],
      "metadata": {
        "colab": {
          "base_uri": "https://localhost:8080/",
          "height": 449
        },
        "id": "a37sl6rlvahN",
        "outputId": "b3dcc852-fd8a-4cd5-c6a9-e018c47628b0"
      },
      "execution_count": 158,
      "outputs": [
        {
          "output_type": "display_data",
          "data": {
            "text/plain": [
              "<Figure size 640x480 with 1 Axes>"
            ],
            "image/png": "[encoded data removed]"
          },
          "metadata": {}
        }
      ]
    },
    {
      "cell_type": "code",
      "source": [
        "# Type your code here\n",
        "coef_dict = get_feature_coefs(lr_elastic_net, 0, feature_cols)\n",
        "visualize_coefs(coef_dict)"
      ],
      "metadata": {
        "colab": {
          "base_uri": "https://localhost:8080/",
          "height": 449
        },
        "id": "01rptwHOv57f",
        "outputId": "142d052f-1d1c-48b0-bf9b-9a627b236399"
      },
      "execution_count": 161,
      "outputs": [
        {
          "output_type": "display_data",
          "data": {
            "text/plain": [
              "<Figure size 640x480 with 1 Axes>"
            ],
            "image/png": "[encoded data removed]"
          },
          "metadata": {}
        }
      ]
    },
    {
      "cell_type": "markdown",
      "metadata": {
        "id": "ded1c7ac-f99a-4a50-99be-1a78febb3c7b"
      },
      "source": [
        "<details><summary>Click here for a sample solution</summary>\n",
        "\n",
        "```python\n",
        "# elasticnet penalty to shrink coefficients without removing any features from the model\n",
        "penalty= 'elasticnet'\n",
        "# Our classification problem is multinomial\n",
        "multi_class = 'multinomial'\n",
        "# Use saga for L1 penalty and multinomial classes\n",
        "solver = 'saga'\n",
        "# Max iteration = 1000\n",
        "max_iter = 1000\n",
        "# l1_ratio\n",
        "l1_ratio = 0.1\n",
        "\n",
        "# Define a elastic-net model\n",
        "en_model = LogisticRegression(random_state=rs, penalty=penalty, multi_class=multi_class, solver=solver, max_iter = 1000, l1_ratio=l1_ratio)\n",
        "en_model.fit(X_train, y_train)\n",
        "# Make predictions\n",
        "preds = en_model.predict(X_test)\n",
        "```\n",
        "\n",
        "</details>\n"
      ]
    },
    {
      "cell_type": "markdown",
      "metadata": {
        "id": "8b2df67b-3d21-4b83-af4e-dedef7e0f285"
      },
      "source": [
        "## Next steps\n"
      ]
    },
    {
      "cell_type": "markdown",
      "metadata": {
        "id": "0c24a5af-2734-4197-835d-ff882c021e56"
      },
      "source": [
        "Great! Now you have learned about and practiced applying a logistic regression model to solve a real-world food classification problem for diabetic patients. You also learned how to evaluate and interpret the trained logistic regression models.\n"
      ]
    },
    {
      "cell_type": "markdown",
      "metadata": {
        "id": "1fff8222-9e64-4cfc-b854-c5ebb52cde24"
      },
      "source": [
        "Next, you will be learning other popular classification models with different structures, assumptions, cost functions, and application scenarios.\n"
      ]
    },
    {
      "cell_type": "markdown",
      "metadata": {
        "id": "e4007e9b-b8cd-4772-bd74-6c656ab6914a"
      },
      "source": [
        "## Authors\n"
      ]
    },
    {
      "cell_type": "markdown",
      "metadata": {
        "id": "16d96101-1285-4cc2-8939-c7ff0f711c71"
      },
      "source": [
        "[Yan Luo](https://www.linkedin.com/in/yan-luo-96288783/?utm_medium=Exinfluencer&utm_source=Exinfluencer&utm_content=000026UJ&utm_term=10006555&utm_id=NA-SkillsNetwork-Channel-SkillsNetworkCoursesIBMML241ENSkillsNetwork31576874-2021-01-01)\n"
      ]
    },
    {
      "cell_type": "markdown",
      "metadata": {
        "id": "fa1a1661-512a-4ba8-b639-8a97823a1c30"
      },
      "source": [
        "### Other Contributors\n"
      ]
    },
    {
      "cell_type": "markdown",
      "metadata": {
        "id": "f47c8cc4-7e39-430c-b1b6-33d1078c2f4a"
      },
      "source": [
        "## Change Log\n"
      ]
    },
    {
      "cell_type": "markdown",
      "metadata": {
        "id": "152591f1-05eb-465d-b869-d1d75db3123f"
      },
      "source": [
        "| Date (YYYY-MM-DD) | Version | Changed By | Change Description          |\n",
        "| ----------------- | ------- | ---------- | --------------------------- |\n",
        "| 2021-10-25        | 1.0     | Yan        | Created the initial version |\n"
      ]
    },
    {
      "cell_type": "markdown",
      "metadata": {
        "id": "968cc834-6cd8-4f0c-b63c-b1c9cde20ffb"
      },
      "source": [
        "Copyright © 2021 IBM Corporation. All rights reserved.\n"
      ]
    }
  ],
  "metadata": {
    "kernelspec": {
      "display_name": "Python",
      "language": "python",
      "name": "conda-env-python-py"
    },
    "language_info": {
      "name": ""
    },
    "colab": {
      "provenance": []
    }
  },
  "nbformat": 4,
  "nbformat_minor": 0
}